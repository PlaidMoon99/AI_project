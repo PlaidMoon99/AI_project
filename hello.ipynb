{
 "cells": [
  {
   "cell_type": "markdown",
   "metadata": {},
   "source": [
    "## TEST"
   ]
  },
  {
   "cell_type": "code",
   "execution_count": 1,
   "metadata": {},
   "outputs": [
    {
     "name": "stdout",
     "output_type": "stream",
     "text": [
      "hello, python\n"
     ]
    }
   ],
   "source": [
    "print(\"hello, python\")"
   ]
  },
  {
   "cell_type": "markdown",
   "metadata": {},
   "source": [
    "## BASIC PYTHON"
   ]
  },
  {
   "cell_type": "code",
   "execution_count": 1,
   "metadata": {},
   "outputs": [
    {
     "name": "stdout",
     "output_type": "stream",
     "text": [
      "10 -20\n"
     ]
    }
   ],
   "source": [
    "num1 = 10\n",
    "num2 = -20\n",
    "print(num1,num2)\n"
   ]
  },
  {
   "cell_type": "code",
   "execution_count": 2,
   "metadata": {},
   "outputs": [
    {
     "name": "stdout",
     "output_type": "stream",
     "text": [
      "3.14 -2.718\n"
     ]
    }
   ],
   "source": [
    "num1 = 3.14\n",
    "num2 = -2.718\n",
    "print(num1,num2)"
   ]
  },
  {
   "cell_type": "code",
   "execution_count": 5,
   "metadata": {},
   "outputs": [
    {
     "name": "stdout",
     "output_type": "stream",
     "text": [
      "Hello Python\n"
     ]
    }
   ],
   "source": [
    " str1 = 'Hello'\n",
    " str2 = \"Python\"\n",
    "\n",
    " print(str1, str2)"
   ]
  },
  {
   "cell_type": "code",
   "execution_count": 7,
   "metadata": {},
   "outputs": [
    {
     "name": "stdout",
     "output_type": "stream",
     "text": [
      "This is \n",
      "a multi-line\n",
      "string.\n"
     ]
    }
   ],
   "source": [
    "str3 = '''This is \n",
    "a multi-line\n",
    "string.'''\n",
    "print(str3)"
   ]
  },
  {
   "cell_type": "code",
   "execution_count": 8,
   "metadata": {},
   "outputs": [
    {
     "name": "stdout",
     "output_type": "stream",
     "text": [
      "P\n",
      "n\n"
     ]
    }
   ],
   "source": [
    "text = \"Python\"\n",
    "print(text[0])\n",
    "print(text[-1])"
   ]
  },
  {
   "cell_type": "code",
   "execution_count": 9,
   "metadata": {},
   "outputs": [
    {
     "name": "stdout",
     "output_type": "stream",
     "text": [
      "Pyt\n",
      "Pto\n"
     ]
    }
   ],
   "source": [
    "text = \"Python\"\n",
    "print(text[0:3])\n",
    "print(text[::2])"
   ]
  },
  {
   "cell_type": "code",
   "execution_count": 21,
   "metadata": {},
   "outputs": [
    {
     "name": "stdout",
     "output_type": "stream",
     "text": [
      "e\n",
      "exi\n",
      "Slic\n"
     ]
    }
   ],
   "source": [
    "text = \"indexing Slicing\"\n",
    "print(text[3])\n",
    "print(text[3:6])\n",
    "print(text[-7:-3])"
   ]
  },
  {
   "cell_type": "code",
   "execution_count": 11,
   "metadata": {},
   "outputs": [
    {
     "name": "stdout",
     "output_type": "stream",
     "text": [
      "PYTHON\n",
      "python\n"
     ]
    }
   ],
   "source": [
    "text = \"Python\"\n",
    "print(text.upper())\n",
    "print(text.lower())"
   ]
  },
  {
   "cell_type": "code",
   "execution_count": 23,
   "metadata": {},
   "outputs": [
    {
     "name": "stdout",
     "output_type": "stream",
     "text": [
      "1\n",
      "3\n",
      "3\n",
      "9\n"
     ]
    }
   ],
   "source": [
    "text = \"banana\"\n",
    "txt = \"AI Compiler Engineer\"\n",
    "print(text.find('a'))\n",
    "print(text.count('a'))\n",
    "print(txt.count('e'))\n",
    "print(txt.find('e'))\n"
   ]
  },
  {
   "cell_type": "code",
   "execution_count": 26,
   "metadata": {},
   "outputs": [
    {
     "name": "stdout",
     "output_type": "stream",
     "text": [
      "Hello world\n",
      "Hello\n"
     ]
    }
   ],
   "source": [
    "text = \" Hello world    \"\n",
    "print(text.strip())\n",
    "print(text[:6].lstrip())"
   ]
  },
  {
   "cell_type": "code",
   "execution_count": 16,
   "metadata": {},
   "outputs": [
    {
     "name": "stdout",
     "output_type": "stream",
     "text": [
      "['Python', 'is', 'fun']\n",
      "Pythonisfun\n"
     ]
    }
   ],
   "source": [
    "text = \"Python is fun\"\n",
    "words = text.split()\n",
    "print(words)\n",
    "joined_text = ''.join(words)\n",
    "print(joined_text)"
   ]
  },
  {
   "cell_type": "code",
   "execution_count": 27,
   "metadata": {},
   "outputs": [
    {
     "name": "stdout",
     "output_type": "stream",
     "text": [
      "My name is Alice and I am 30 years old.\n"
     ]
    }
   ],
   "source": [
    "# Formatting\n",
    "\n",
    "name = \"Alice\"\n",
    "age = 30\n",
    "print(f\"My name is {name} and I am {age} years old.\")"
   ]
  },
  {
   "cell_type": "code",
   "execution_count": 30,
   "metadata": {},
   "outputs": [
    {
     "name": "stdout",
     "output_type": "stream",
     "text": [
      "Hello\n",
      "Python\n",
      "Using\tTab\texample\n",
      "Print \\ backslash\n"
     ]
    }
   ],
   "source": [
    "print(\"Hello\\nPython\")\n",
    "print(\"Using\\tTab\\texample\")\n",
    "print(\"Print \\\\ backslash\")"
   ]
  },
  {
   "cell_type": "code",
   "execution_count": 31,
   "metadata": {},
   "outputs": [
    {
     "name": "stdout",
     "output_type": "stream",
     "text": [
      "False\n",
      "True\n",
      "False\n"
     ]
    }
   ],
   "source": [
    "a = True\n",
    "b = False\n",
    "print(a and b)\n",
    "print(a or b)\n",
    "print(not a)"
   ]
  },
  {
   "cell_type": "code",
   "execution_count": 32,
   "metadata": {},
   "outputs": [
    {
     "name": "stdout",
     "output_type": "stream",
     "text": [
      "NO\n"
     ]
    }
   ],
   "source": [
    "is_authenticated = True\n",
    "has_permission = False\n",
    "if is_authenticated and has_permission:\n",
    "    print(\"YES\")\n",
    "else:\n",
    "    print(\"NO\")"
   ]
  },
  {
   "cell_type": "code",
   "execution_count": 41,
   "metadata": {},
   "outputs": [
    {
     "name": "stdout",
     "output_type": "stream",
     "text": [
      "['Banana', 'Cherry', 'Mango']\n",
      "Apple\n",
      "['Apple', 'Banana']\n",
      "<class 'int'>\n",
      "Mango\n"
     ]
    }
   ],
   "source": [
    "empty_list = [] # list : 수정가능, tuple : 수정불가/immutable한 값\n",
    "\n",
    "num = [1,2,3,4,5,7,9,11]\n",
    "fruits = [\"Apple\", \"Banana\", \"Cherry\", \"Mango\"]\n",
    "\n",
    "print(fruits[1:4])\n",
    "print(fruits[0])\n",
    "print(fruits[0:2])\n",
    "print(type(num[7]))\n",
    "print(fruits[num[2]])"
   ]
  },
  {
   "cell_type": "code",
   "execution_count": 46,
   "metadata": {},
   "outputs": [
    {
     "name": "stdout",
     "output_type": "stream",
     "text": [
      "[2, 1, 4, 2, 5, 3, 9]\n",
      "[1, 2, 2, 3, 4, 5, 9]\n",
      "[1, 2, 3, 4, 5, 9]\n",
      "[1, 2, 4, 5, 9]\n",
      "3\n",
      "[9, 5, 4, 2, 1]\n",
      "1\n",
      "[9, 5, 4, 2, 1]\n",
      "[9, 5, 4, 2, 1]\n",
      "[9, 5, 4, 2, 1, 10, 11, 12]\n"
     ]
    }
   ],
   "source": [
    "num = [2,1,4,2,5,3]\n",
    "\n",
    "num.append(9)\n",
    "print(num)\n",
    "\n",
    "num.sort()\n",
    "print(num)\n",
    "\n",
    "num.remove(2)\n",
    "print(num)\n",
    "\n",
    "removed_items = num.pop(2)\n",
    "print(num)\n",
    "print(removed_items)\n",
    "\n",
    "num.reverse()\n",
    "print(num)\n",
    "\n",
    "count = num.count(9)\n",
    "print(count)\n",
    "\n",
    "new_num = num.copy()\n",
    "print(new_num)\n",
    "print(num)\n",
    "\n",
    "another_list = [10,11,12]\n",
    "combined_list = num +another_list\n",
    "print(combined_list)"
   ]
  },
  {
   "cell_type": "code",
   "execution_count": 48,
   "metadata": {},
   "outputs": [
    {
     "name": "stdout",
     "output_type": "stream",
     "text": [
      "('red', 'yellow')\n"
     ]
    }
   ],
   "source": [
    "empty_tuple = 0\n",
    "single_ele = (5,)\n",
    "\n",
    "colors = (\"red\", \"yellow\", \"blue\", \"green\")\n",
    "print(colors[:2])"
   ]
  },
  {
   "cell_type": "code",
   "execution_count": 54,
   "metadata": {},
   "outputs": [
    {
     "name": "stdout",
     "output_type": "stream",
     "text": [
      "2\n",
      "0\n",
      "x :  2\n",
      "y :  4\n"
     ]
    }
   ],
   "source": [
    "nums = (1,2,3,4,2)\n",
    "print(nums.count(2))\n",
    "print(nums.index(1))\n",
    "\n",
    "point = (2,4)\n",
    "print(\"x : \",point[0])\n",
    "print(\"y : \",point[1])"
   ]
  },
  {
   "cell_type": "code",
   "execution_count": 55,
   "metadata": {},
   "outputs": [
    {
     "name": "stdout",
     "output_type": "stream",
     "text": [
      "Moon\n",
      "26\n",
      "27\n"
     ]
    }
   ],
   "source": [
    "# Dictionary\n",
    "empty_tuple = {}\n",
    "person = {\"name\" : \"Moon\", \"age\" : 26, \"city\" : \"New York\"}\n",
    "\n",
    "print(person[\"name\"])\n",
    "\n",
    "print(person[\"age\"])\n",
    "person[\"age\"] = 27\n",
    "print(person[\"age\"])"
   ]
  },
  {
   "cell_type": "code",
   "execution_count": 57,
   "metadata": {},
   "outputs": [
    {
     "name": "stdout",
     "output_type": "stream",
     "text": [
      "Moon\n",
      "dict_keys(['name', 'age'])\n",
      "dict_values(['Moon', 21])\n",
      "dict_items([('name', 'Moon'), ('age', 21)])\n"
     ]
    }
   ],
   "source": [
    "# get\n",
    "info = {\"name\":\"Moon\",\"age\":21}\n",
    "print(info.get(\"name\"))\n",
    "\n",
    "print(info.keys())\n",
    "\n",
    "print(info.values())\n",
    "\n",
    "print(info.items())"
   ]
  },
  {
   "cell_type": "markdown",
   "metadata": {},
   "source": [
    "#### Practice"
   ]
  },
  {
   "cell_type": "code",
   "execution_count": 59,
   "metadata": {},
   "outputs": [
    {
     "name": "stdout",
     "output_type": "stream",
     "text": [
      "25\n",
      "Los Angeles\n"
     ]
    }
   ],
   "source": [
    "#Dictionary\n",
    "\n",
    "person = {\n",
    "    \"name\" : \"Alice\",\n",
    "    \"age\" : 25, \n",
    "    \"city\" : \"New York\"\n",
    "}\n",
    "\n",
    "print(person[\"age\"])\n",
    "person[\"city\"] = \"Los Angeles\"\n",
    "print(person[\"city\"])"
   ]
  },
  {
   "cell_type": "code",
   "execution_count": 60,
   "metadata": {},
   "outputs": [
    {
     "name": "stdout",
     "output_type": "stream",
     "text": [
      "5\n",
      "20\n"
     ]
    }
   ],
   "source": [
    "# Tuple\n",
    "coordinates = (5, 10, 15, 20)\n",
    "print(coordinates[0])\n",
    "print(coordinates[-1])"
   ]
  },
  {
   "cell_type": "code",
   "execution_count": 61,
   "metadata": {},
   "outputs": [
    {
     "name": "stdout",
     "output_type": "stream",
     "text": [
      "['apple', 'cherry', 'banana', 'orange']\n"
     ]
    }
   ],
   "source": [
    "# List\n",
    "fruits = [\"apple\", \"banana\", \"cherry\", \"banana\"]\n",
    "\n",
    "fruits.remove(\"banana\")\n",
    "fruits.append(\"orange\")\n",
    "\n",
    "print(fruits)"
   ]
  },
  {
   "cell_type": "code",
   "execution_count": 62,
   "metadata": {},
   "outputs": [
    {
     "name": "stdout",
     "output_type": "stream",
     "text": [
      "['apple', 'cherry']\n",
      "['apple', 'cherry']\n"
     ]
    }
   ],
   "source": [
    "fruit2 = [\"apple\", \"banana\", \"cherry\", \"banana\"]\n",
    "fruit3 = [\"apple\", \"banana\", \"cherry\", \"banana\"]\n",
    "\n",
    "fruit2 = list(filter(lambda x: x != \"banana\", fruit2))\n",
    "print(fruit2)\n",
    "\n",
    "fruit3 = [fruit for fruit in fruit3 if fruit != \"banana\"]\n",
    "print(fruit3)"
   ]
  },
  {
   "cell_type": "code",
   "execution_count": 2,
   "metadata": {},
   "outputs": [
    {
     "name": "stdout",
     "output_type": "stream",
     "text": [
      "Pass\n",
      "Odd\n",
      "B\n"
     ]
    }
   ],
   "source": [
    "# IF\n",
    "score = 85\n",
    "if score > 80:\n",
    "    print(\"Pass\")\n",
    "    \n",
    "# IF ELSE\n",
    "num = 5\n",
    "if num % 2 == 0:\n",
    "    print(\"Even\")\n",
    "else:\n",
    "    print(\"Odd\")\n",
    "    \n",
    "# IF Elif Else\n",
    "score = 85\n",
    "if score >= 90:\n",
    "    print(\"A\")\n",
    "elif score >=80:\n",
    "    print(\"B\")\n",
    "else:\n",
    "    print(\"C\")"
   ]
  },
  {
   "cell_type": "code",
   "execution_count": 3,
   "metadata": {},
   "outputs": [
    {
     "name": "stdout",
     "output_type": "stream",
     "text": [
      "GOOD\n"
     ]
    }
   ],
   "source": [
    "x, y = 10, 20\n",
    "if x > 5 and y < 30:\n",
    "    print(\"GOOD\")\n",
    "    "
   ]
  },
  {
   "cell_type": "code",
   "execution_count": 5,
   "metadata": {},
   "outputs": [
    {
     "name": "stdout",
     "output_type": "stream",
     "text": [
      "2\n",
      "4\n",
      "6\n",
      "8\n",
      "10\n",
      "current value : 1\n",
      "current value : 2\n",
      "current value : 3\n",
      "current value : 4\n",
      "current value : 5\n"
     ]
    }
   ],
   "source": [
    "# for\n",
    "num = [1,2,3,4,5]\n",
    "for num in num:\n",
    "    print(num*2)\n",
    "    \n",
    "#range\n",
    "for i in range(1,6):\n",
    "    print(f\"current value : {i}\")    "
   ]
  },
  {
   "cell_type": "code",
   "execution_count": 7,
   "metadata": {},
   "outputs": [
    {
     "name": "stdout",
     "output_type": "stream",
     "text": [
      "i 1, j 1\n",
      "i 1, j 2\n",
      "i 2, j 1\n",
      "i 2, j 2\n",
      "i 3, j 1\n",
      "i 3, j 2\n",
      "index 0 : A\n",
      "index 1 : B\n",
      "index 2 : C\n"
     ]
    }
   ],
   "source": [
    "for i in range(1,4):\n",
    "    for j in range(1,3):\n",
    "        print(f\"i {i}, j {j}\")\n",
    "  \n",
    "# enumerate : sequence(list, tuple, string 등) 을 돌면서 인텍스와 값을 튜플형태로 반환       \n",
    "items = [\"A\", \"B\", \"C\"]\n",
    "for idx, item in enumerate(items):  \n",
    "    print(f\"index {idx} : {item}\")"
   ]
  },
  {
   "cell_type": "code",
   "execution_count": 4,
   "metadata": {},
   "outputs": [
    {
     "name": "stdout",
     "output_type": "stream",
     "text": [
      "close\n"
     ]
    }
   ],
   "source": [
    "u_input = input(\"입력하세요 : \")\n",
    "print(u_input)"
   ]
  },
  {
   "cell_type": "code",
   "execution_count": 6,
   "metadata": {},
   "outputs": [
    {
     "name": "stdout",
     "output_type": "stream",
     "text": [
      "exit\n"
     ]
    }
   ],
   "source": [
    "while True:\n",
    "    user_input = input(\"Press (y/n) to exit : \")\n",
    "    if user_input == \"y\":\n",
    "        print(\"exit\")\n",
    "        break"
   ]
  },
  {
   "cell_type": "code",
   "execution_count": 7,
   "metadata": {},
   "outputs": [
    {
     "name": "stdout",
     "output_type": "stream",
     "text": [
      "5\n",
      "4\n",
      "3\n",
      "2\n",
      "1\n",
      "Stop\n",
      "1\n",
      "3\n",
      "5\n",
      "7\n"
     ]
    }
   ],
   "source": [
    "x = 5\n",
    "while x > 0:\n",
    "    print(x)\n",
    "    x -= 1\n",
    "else: \n",
    "    print(\"Stop\")\n",
    "    \n",
    " \n",
    "n = 0\n",
    "while n < 10:\n",
    "    n += 1\n",
    "    if n%2 == 0:\n",
    "        continue\n",
    "    print(n)\n",
    "    if n == 7:\n",
    "        break"
   ]
  },
  {
   "cell_type": "code",
   "execution_count": 2,
   "metadata": {},
   "outputs": [
    {
     "name": "stdout",
     "output_type": "stream",
     "text": [
      "HI\n"
     ]
    }
   ],
   "source": [
    "def greet():\n",
    "    print(\"HI\")\n",
    "    \n",
    "greet()"
   ]
  },
  {
   "cell_type": "code",
   "execution_count": 3,
   "metadata": {},
   "outputs": [
    {
     "name": "stdout",
     "output_type": "stream",
     "text": [
      "50\n"
     ]
    }
   ],
   "source": [
    "def add(a,b):\n",
    "    return a+b\n",
    "\n",
    "result = add(45,5)\n",
    "print(result)"
   ]
  },
  {
   "cell_type": "code",
   "execution_count": 4,
   "metadata": {},
   "outputs": [
    {
     "name": "stdout",
     "output_type": "stream",
     "text": [
      "Hi, MOON\n",
      "Hi, Lee\n"
     ]
    }
   ],
   "source": [
    "def greet(name=\"MOON\"):\n",
    "    print(f\"Hi, {name}\")\n",
    "    \n",
    "greet()\n",
    "greet(\"Lee\")"
   ]
  },
  {
   "cell_type": "code",
   "execution_count": 7,
   "metadata": {},
   "outputs": [
    {
     "name": "stdout",
     "output_type": "stream",
     "text": [
      "24\n"
     ]
    }
   ],
   "source": [
    "def multiply(*args):\n",
    "    result = 1\n",
    "    for num in args:\n",
    "        result *= num\n",
    "    return result\n",
    "\n",
    "print(multiply(2,3,4))"
   ]
  },
  {
   "cell_type": "code",
   "execution_count": 8,
   "metadata": {},
   "outputs": [
    {
     "name": "stdout",
     "output_type": "stream",
     "text": [
      "Plus\n",
      "Minus\n",
      "ZERO\n"
     ]
    }
   ],
   "source": [
    "def check_num(num):\n",
    "    if num>0:\n",
    "        return \"Plus\"\n",
    "    elif num<0:\n",
    "        return \"Minus\"\n",
    "    else:\n",
    "        return \"ZERO\"\n",
    "    \n",
    "print(check_num(5))\n",
    "print(check_num(-3))\n",
    "print(check_num(0))"
   ]
  },
  {
   "cell_type": "code",
   "execution_count": 9,
   "metadata": {},
   "outputs": [
    {
     "name": "stdout",
     "output_type": "stream",
     "text": [
      "Login\n",
      "Fail\n"
     ]
    }
   ],
   "source": [
    "def login_check(username, password):\n",
    "    if username == \"admin\" and password == \"1234\":\n",
    "        return \"Login\"\n",
    "    else:\n",
    "        return \"Fail\"\n",
    "    \n",
    "print(login_check(\"admin\",\"1234\"))\n",
    "print(login_check(\"admiin\",\"1234\"))"
   ]
  },
  {
   "cell_type": "code",
   "execution_count": 10,
   "metadata": {},
   "outputs": [
    {
     "name": "stdout",
     "output_type": "stream",
     "text": [
      "16\n"
     ]
    }
   ],
   "source": [
    "def find_max(numbers):\n",
    "    max = numbers[0]\n",
    "    for num in numbers:\n",
    "        if num > max:\n",
    "            max = num\n",
    "    return max\n",
    "\n",
    "numbers = [1,3,4,7,2,5,16]\n",
    "print(find_max(numbers))"
   ]
  },
  {
   "cell_type": "code",
   "execution_count": 13,
   "metadata": {},
   "outputs": [
    {
     "name": "stdout",
     "output_type": "stream",
     "text": [
      "-----------데이터분할예제-----------\n",
      "Full Data :  [1, 2, 3, 4, 5, 6, 7, 8, 9, 10]\n",
      "8\n",
      "기본비율(80%)로 분할\n",
      "Train Data :  [1, 2, 3, 4, 5, 6, 7, 8]\n",
      "Test Data :  9\n"
     ]
    }
   ],
   "source": [
    "def split_data(data, train_ratio = 0.8):\n",
    "    split_index = int(len(data)*train_ratio)\n",
    "    print(split_index)\n",
    "    \n",
    "    train_data = data[:split_index]\n",
    "    test_data = data[split_index]\n",
    "    return train_data, test_data\n",
    "\n",
    "full_data = [1,2,3,4,5,6,7,8,9,10]\n",
    "print(\"-----------데이터분할예제-----------\")\n",
    "print(\"Full Data : \", full_data)\n",
    "\n",
    "train, test = split_data(full_data)\n",
    "print(\"기본비율(80%)로 분할\")\n",
    "print(\"Train Data : \",train)\n",
    "print(\"Test Data : \",test)"
   ]
  },
  {
   "cell_type": "markdown",
   "metadata": {},
   "source": [
    "### 람다함수"
   ]
  },
  {
   "cell_type": "code",
   "execution_count": 14,
   "metadata": {},
   "outputs": [
    {
     "name": "stdout",
     "output_type": "stream",
     "text": [
      "25\n"
     ]
    }
   ],
   "source": [
    "square = lambda x: x**2\n",
    "print(square(5))"
   ]
  },
  {
   "cell_type": "code",
   "execution_count": 15,
   "metadata": {},
   "outputs": [
    {
     "name": "stdout",
     "output_type": "stream",
     "text": [
      "8\n"
     ]
    }
   ],
   "source": [
    "add = lambda a,b:a+b\n",
    "print(add(3,5))"
   ]
  },
  {
   "cell_type": "code",
   "execution_count": 16,
   "metadata": {},
   "outputs": [
    {
     "name": "stdout",
     "output_type": "stream",
     "text": [
      "EVEN\n"
     ]
    }
   ],
   "source": [
    "check_even = lambda x: \"EVEN\" if x%2 == 0 else \"ODD\"\n",
    "print(check_even(4))"
   ]
  },
  {
   "cell_type": "code",
   "execution_count": 17,
   "metadata": {},
   "outputs": [
    {
     "name": "stdout",
     "output_type": "stream",
     "text": [
      "[1, 1, 2, 5, 8]\n"
     ]
    }
   ],
   "source": [
    "nums = [1,5,2,8,1]\n",
    "sorted_nums = sorted(nums, key=lambda x:x)\n",
    "print(sorted_nums)"
   ]
  },
  {
   "cell_type": "markdown",
   "metadata": {},
   "source": [
    "### 리스트 매서드"
   ]
  },
  {
   "cell_type": "code",
   "execution_count": 18,
   "metadata": {},
   "outputs": [
    {
     "name": "stdout",
     "output_type": "stream",
     "text": [
      "['Mango', 'Apple', 'Cherry']\n"
     ]
    }
   ],
   "source": [
    "fruits = [\"Mango\", \"Apple\"]\n",
    "fruits.append('Cherry')\n",
    "print(fruits)"
   ]
  },
  {
   "cell_type": "code",
   "execution_count": 20,
   "metadata": {},
   "outputs": [
    {
     "name": "stdout",
     "output_type": "stream",
     "text": [
      "['Mango', 'Apple', 'Cherry', 'cherry', 'strawberry', 'cherry', 'strawberry']\n"
     ]
    }
   ],
   "source": [
    "fruits.extend(['cherry', 'strawberry'])\n",
    "print(fruits)"
   ]
  },
  {
   "cell_type": "code",
   "execution_count": 21,
   "metadata": {},
   "outputs": [
    {
     "name": "stdout",
     "output_type": "stream",
     "text": [
      "['Mango', 'banana', 'Apple', 'Cherry', 'cherry', 'strawberry', 'cherry', 'strawberry']\n"
     ]
    }
   ],
   "source": [
    "fruits.insert(1,\"banana\")\n",
    "print(fruits)"
   ]
  },
  {
   "cell_type": "code",
   "execution_count": 22,
   "metadata": {},
   "outputs": [
    {
     "name": "stdout",
     "output_type": "stream",
     "text": [
      "['Mango', 'Apple', 'Cherry', 'cherry', 'strawberry', 'cherry', 'strawberry']\n",
      "strawberry\n",
      "['Mango', 'Apple', 'Cherry', 'cherry', 'strawberry', 'cherry']\n"
     ]
    }
   ],
   "source": [
    "fruits.remove('banana')\n",
    "print(fruits)\n",
    "\n",
    "last_item = fruits.pop()\n",
    "print(last_item)\n",
    "print(fruits)"
   ]
  },
  {
   "cell_type": "code",
   "execution_count": 23,
   "metadata": {},
   "outputs": [
    {
     "name": "stdout",
     "output_type": "stream",
     "text": [
      "[1, 1, 3, 6, 43]\n"
     ]
    }
   ],
   "source": [
    "numbers = [43,1,6,3,1]\n",
    "numbers.sort()\n",
    "print(numbers)"
   ]
  },
  {
   "cell_type": "markdown",
   "metadata": {},
   "source": [
    "### 예외처리"
   ]
  },
  {
   "cell_type": "code",
   "execution_count": 26,
   "metadata": {},
   "outputs": [
    {
     "name": "stdout",
     "output_type": "stream",
     "text": [
      "입력한 숫자는 0 입니다.\n"
     ]
    }
   ],
   "source": [
    "try:\n",
    "    num = int(input(\"숫자를 입력하세요 : \"))\n",
    "except ValueError:\n",
    "    print(\"유효한 숫자를 입력해야합니다.\")\n",
    "else:\n",
    "    print(f\"입력한 숫자는 {num} 입니다.\")"
   ]
  },
  {
   "cell_type": "code",
   "execution_count": 27,
   "metadata": {},
   "outputs": [
    {
     "name": "stdout",
     "output_type": "stream",
     "text": [
      "Can't find file\n"
     ]
    },
    {
     "ename": "NameError",
     "evalue": "name 'file' is not defined",
     "output_type": "error",
     "traceback": [
      "\u001b[1;31m---------------------------------------------------------------------------\u001b[0m",
      "\u001b[1;31mNameError\u001b[0m                                 Traceback (most recent call last)",
      "Cell \u001b[1;32mIn[27], line 8\u001b[0m\n\u001b[0;32m      6\u001b[0m     \u001b[38;5;28mprint\u001b[39m(\u001b[38;5;124m\"\u001b[39m\u001b[38;5;124mCan\u001b[39m\u001b[38;5;124m'\u001b[39m\u001b[38;5;124mt find file\u001b[39m\u001b[38;5;124m\"\u001b[39m)\n\u001b[0;32m      7\u001b[0m \u001b[38;5;28;01mfinally\u001b[39;00m:\n\u001b[1;32m----> 8\u001b[0m     \u001b[43mfile\u001b[49m\u001b[38;5;241m.\u001b[39mclose()\n\u001b[0;32m      9\u001b[0m     \u001b[38;5;28mprint\u001b[39m(\u001b[38;5;124m\"\u001b[39m\u001b[38;5;124mFind file\u001b[39m\u001b[38;5;124m\"\u001b[39m)\n",
      "\u001b[1;31mNameError\u001b[0m: name 'file' is not defined"
     ]
    }
   ],
   "source": [
    "try:\n",
    "    file = open(\"example.txt\",\"r\")\n",
    "    content = file.read()\n",
    "    print(content)\n",
    "except FileNotFoundError:\n",
    "    print(\"Can't find file\")\n",
    "finally:\n",
    "    file.close()\n",
    "    print(\"Find file\")"
   ]
  },
  {
   "cell_type": "markdown",
   "metadata": {},
   "source": [
    "### Numpy"
   ]
  },
  {
   "cell_type": "code",
   "execution_count": 33,
   "metadata": {},
   "outputs": [
    {
     "name": "stdout",
     "output_type": "stream",
     "text": [
      "[1 2 3]\n"
     ]
    }
   ],
   "source": [
    "import numpy as np\n",
    "\n",
    "arr = np.array([1,2,3])\n",
    "print(arr)\n",
    "\n"
   ]
  },
  {
   "cell_type": "code",
   "execution_count": 32,
   "metadata": {},
   "outputs": [
    {
     "name": "stdout",
     "output_type": "stream",
     "text": [
      "[1 3 5 7 9]\n"
     ]
    }
   ],
   "source": [
    "arr = np.arange(1,10,2)\n",
    "print(arr)\n"
   ]
  },
  {
   "cell_type": "code",
   "execution_count": 34,
   "metadata": {},
   "outputs": [
    {
     "data": {
      "text/plain": [
       "array([[0.2284733 , 0.75755743, 0.08691768],\n",
       "       [0.72752728, 0.82762952, 0.21606955],\n",
       "       [0.81924423, 0.08423745, 0.86277776]])"
      ]
     },
     "execution_count": 34,
     "metadata": {},
     "output_type": "execute_result"
    }
   ],
   "source": [
    "arr = np.random.rand(3,3)\n",
    "arr"
   ]
  },
  {
   "cell_type": "markdown",
   "metadata": {},
   "source": []
  },
  {
   "cell_type": "code",
   "execution_count": 35,
   "metadata": {},
   "outputs": [
    {
     "data": {
      "text/plain": [
       "array([[0.2284733 , 0.75755743, 0.08691768, 0.72752728, 0.82762952,\n",
       "        0.21606955, 0.81924423, 0.08423745, 0.86277776]])"
      ]
     },
     "execution_count": 35,
     "metadata": {},
     "output_type": "execute_result"
    }
   ],
   "source": [
    "arr = arr.reshape(1,9)\n",
    "arr"
   ]
  },
  {
   "cell_type": "code",
   "execution_count": 36,
   "metadata": {},
   "outputs": [
    {
     "data": {
      "text/plain": [
       "np.int64(6)"
      ]
     },
     "execution_count": 36,
     "metadata": {},
     "output_type": "execute_result"
    }
   ],
   "source": [
    "np.sum([1,2,3])"
   ]
  },
  {
   "cell_type": "code",
   "execution_count": 37,
   "metadata": {},
   "outputs": [
    {
     "data": {
      "text/plain": [
       "np.float64(2.0)"
      ]
     },
     "execution_count": 37,
     "metadata": {},
     "output_type": "execute_result"
    }
   ],
   "source": [
    "np.mean([1,2,3])"
   ]
  },
  {
   "cell_type": "code",
   "execution_count": 39,
   "metadata": {},
   "outputs": [
    {
     "data": {
      "text/plain": [
       "np.float64(0.816496580927726)"
      ]
     },
     "execution_count": 39,
     "metadata": {},
     "output_type": "execute_result"
    }
   ],
   "source": [
    "np.std([1,2,3])"
   ]
  },
  {
   "cell_type": "markdown",
   "metadata": {},
   "source": [
    "### Pandas"
   ]
  },
  {
   "cell_type": "code",
   "execution_count": 1,
   "metadata": {},
   "outputs": [
    {
     "name": "stdout",
     "output_type": "stream",
     "text": [
      "c:\\AI_project\n",
      "['.git', '.venv', 'AI_project', 'AI_project-1', 'dataset', 'hello.ipynb', 'Practice_CodingTest.ipynb', 'pythonbasic.ipynb']\n"
     ]
    }
   ],
   "source": [
    "import os\n",
    "print(os.getcwd())\n",
    "print(os.listdir())"
   ]
  },
  {
   "cell_type": "code",
   "execution_count": 3,
   "metadata": {},
   "outputs": [],
   "source": [
    "import pandas as pd\n",
    "import matplotlib.pyplot as plt\n",
    "import seaborn as sns"
   ]
  },
  {
   "cell_type": "code",
   "execution_count": 20,
   "metadata": {},
   "outputs": [],
   "source": [
    "df = pd.read_csv('C:/AI_project/dataset/diabetes.csv')"
   ]
  },
  {
   "cell_type": "code",
   "execution_count": 5,
   "metadata": {},
   "outputs": [
    {
     "data": {
      "text/html": [
       "<div>\n",
       "<style scoped>\n",
       "    .dataframe tbody tr th:only-of-type {\n",
       "        vertical-align: middle;\n",
       "    }\n",
       "\n",
       "    .dataframe tbody tr th {\n",
       "        vertical-align: top;\n",
       "    }\n",
       "\n",
       "    .dataframe thead th {\n",
       "        text-align: right;\n",
       "    }\n",
       "</style>\n",
       "<table border=\"1\" class=\"dataframe\">\n",
       "  <thead>\n",
       "    <tr style=\"text-align: right;\">\n",
       "      <th></th>\n",
       "      <th>Pregnancies</th>\n",
       "      <th>Glucose</th>\n",
       "      <th>BloodPressure</th>\n",
       "      <th>SkinThickness</th>\n",
       "      <th>Insulin</th>\n",
       "      <th>BMI</th>\n",
       "      <th>DiabetesPedigreeFunction</th>\n",
       "      <th>Age</th>\n",
       "      <th>Outcome</th>\n",
       "    </tr>\n",
       "  </thead>\n",
       "  <tbody>\n",
       "    <tr>\n",
       "      <th>0</th>\n",
       "      <td>6</td>\n",
       "      <td>148</td>\n",
       "      <td>72</td>\n",
       "      <td>35</td>\n",
       "      <td>0</td>\n",
       "      <td>33.6</td>\n",
       "      <td>0.627</td>\n",
       "      <td>50</td>\n",
       "      <td>1</td>\n",
       "    </tr>\n",
       "    <tr>\n",
       "      <th>1</th>\n",
       "      <td>1</td>\n",
       "      <td>85</td>\n",
       "      <td>66</td>\n",
       "      <td>29</td>\n",
       "      <td>0</td>\n",
       "      <td>26.6</td>\n",
       "      <td>0.351</td>\n",
       "      <td>31</td>\n",
       "      <td>0</td>\n",
       "    </tr>\n",
       "    <tr>\n",
       "      <th>2</th>\n",
       "      <td>8</td>\n",
       "      <td>183</td>\n",
       "      <td>64</td>\n",
       "      <td>0</td>\n",
       "      <td>0</td>\n",
       "      <td>23.3</td>\n",
       "      <td>0.672</td>\n",
       "      <td>32</td>\n",
       "      <td>1</td>\n",
       "    </tr>\n",
       "    <tr>\n",
       "      <th>3</th>\n",
       "      <td>1</td>\n",
       "      <td>89</td>\n",
       "      <td>66</td>\n",
       "      <td>23</td>\n",
       "      <td>94</td>\n",
       "      <td>28.1</td>\n",
       "      <td>0.167</td>\n",
       "      <td>21</td>\n",
       "      <td>0</td>\n",
       "    </tr>\n",
       "    <tr>\n",
       "      <th>4</th>\n",
       "      <td>0</td>\n",
       "      <td>137</td>\n",
       "      <td>40</td>\n",
       "      <td>35</td>\n",
       "      <td>168</td>\n",
       "      <td>43.1</td>\n",
       "      <td>2.288</td>\n",
       "      <td>33</td>\n",
       "      <td>1</td>\n",
       "    </tr>\n",
       "  </tbody>\n",
       "</table>\n",
       "</div>"
      ],
      "text/plain": [
       "   Pregnancies  Glucose  BloodPressure  SkinThickness  Insulin   BMI  \\\n",
       "0            6      148             72             35        0  33.6   \n",
       "1            1       85             66             29        0  26.6   \n",
       "2            8      183             64              0        0  23.3   \n",
       "3            1       89             66             23       94  28.1   \n",
       "4            0      137             40             35      168  43.1   \n",
       "\n",
       "   DiabetesPedigreeFunction  Age  Outcome  \n",
       "0                     0.627   50        1  \n",
       "1                     0.351   31        0  \n",
       "2                     0.672   32        1  \n",
       "3                     0.167   21        0  \n",
       "4                     2.288   33        1  "
      ]
     },
     "execution_count": 5,
     "metadata": {},
     "output_type": "execute_result"
    }
   ],
   "source": [
    "df.head()"
   ]
  },
  {
   "cell_type": "code",
   "execution_count": 6,
   "metadata": {},
   "outputs": [
    {
     "name": "stdout",
     "output_type": "stream",
     "text": [
      "<class 'pandas.core.frame.DataFrame'>\n",
      "RangeIndex: 768 entries, 0 to 767\n",
      "Data columns (total 9 columns):\n",
      " #   Column                    Non-Null Count  Dtype  \n",
      "---  ------                    --------------  -----  \n",
      " 0   Pregnancies               768 non-null    int64  \n",
      " 1   Glucose                   768 non-null    int64  \n",
      " 2   BloodPressure             768 non-null    int64  \n",
      " 3   SkinThickness             768 non-null    int64  \n",
      " 4   Insulin                   768 non-null    int64  \n",
      " 5   BMI                       768 non-null    float64\n",
      " 6   DiabetesPedigreeFunction  768 non-null    float64\n",
      " 7   Age                       768 non-null    int64  \n",
      " 8   Outcome                   768 non-null    int64  \n",
      "dtypes: float64(2), int64(7)\n",
      "memory usage: 54.1 KB\n"
     ]
    }
   ],
   "source": [
    "df.info()"
   ]
  },
  {
   "cell_type": "code",
   "execution_count": 7,
   "metadata": {},
   "outputs": [
    {
     "data": {
      "text/html": [
       "<div>\n",
       "<style scoped>\n",
       "    .dataframe tbody tr th:only-of-type {\n",
       "        vertical-align: middle;\n",
       "    }\n",
       "\n",
       "    .dataframe tbody tr th {\n",
       "        vertical-align: top;\n",
       "    }\n",
       "\n",
       "    .dataframe thead th {\n",
       "        text-align: right;\n",
       "    }\n",
       "</style>\n",
       "<table border=\"1\" class=\"dataframe\">\n",
       "  <thead>\n",
       "    <tr style=\"text-align: right;\">\n",
       "      <th></th>\n",
       "      <th>Pregnancies</th>\n",
       "      <th>Glucose</th>\n",
       "      <th>BloodPressure</th>\n",
       "      <th>SkinThickness</th>\n",
       "      <th>Insulin</th>\n",
       "      <th>BMI</th>\n",
       "      <th>DiabetesPedigreeFunction</th>\n",
       "      <th>Age</th>\n",
       "      <th>Outcome</th>\n",
       "    </tr>\n",
       "  </thead>\n",
       "  <tbody>\n",
       "    <tr>\n",
       "      <th>count</th>\n",
       "      <td>768.000000</td>\n",
       "      <td>768.000000</td>\n",
       "      <td>768.000000</td>\n",
       "      <td>768.000000</td>\n",
       "      <td>768.000000</td>\n",
       "      <td>768.000000</td>\n",
       "      <td>768.000000</td>\n",
       "      <td>768.000000</td>\n",
       "      <td>768.000000</td>\n",
       "    </tr>\n",
       "    <tr>\n",
       "      <th>mean</th>\n",
       "      <td>3.845052</td>\n",
       "      <td>120.894531</td>\n",
       "      <td>69.105469</td>\n",
       "      <td>20.536458</td>\n",
       "      <td>79.799479</td>\n",
       "      <td>31.992578</td>\n",
       "      <td>0.471876</td>\n",
       "      <td>33.240885</td>\n",
       "      <td>0.348958</td>\n",
       "    </tr>\n",
       "    <tr>\n",
       "      <th>std</th>\n",
       "      <td>3.369578</td>\n",
       "      <td>31.972618</td>\n",
       "      <td>19.355807</td>\n",
       "      <td>15.952218</td>\n",
       "      <td>115.244002</td>\n",
       "      <td>7.884160</td>\n",
       "      <td>0.331329</td>\n",
       "      <td>11.760232</td>\n",
       "      <td>0.476951</td>\n",
       "    </tr>\n",
       "    <tr>\n",
       "      <th>min</th>\n",
       "      <td>0.000000</td>\n",
       "      <td>0.000000</td>\n",
       "      <td>0.000000</td>\n",
       "      <td>0.000000</td>\n",
       "      <td>0.000000</td>\n",
       "      <td>0.000000</td>\n",
       "      <td>0.078000</td>\n",
       "      <td>21.000000</td>\n",
       "      <td>0.000000</td>\n",
       "    </tr>\n",
       "    <tr>\n",
       "      <th>25%</th>\n",
       "      <td>1.000000</td>\n",
       "      <td>99.000000</td>\n",
       "      <td>62.000000</td>\n",
       "      <td>0.000000</td>\n",
       "      <td>0.000000</td>\n",
       "      <td>27.300000</td>\n",
       "      <td>0.243750</td>\n",
       "      <td>24.000000</td>\n",
       "      <td>0.000000</td>\n",
       "    </tr>\n",
       "    <tr>\n",
       "      <th>50%</th>\n",
       "      <td>3.000000</td>\n",
       "      <td>117.000000</td>\n",
       "      <td>72.000000</td>\n",
       "      <td>23.000000</td>\n",
       "      <td>30.500000</td>\n",
       "      <td>32.000000</td>\n",
       "      <td>0.372500</td>\n",
       "      <td>29.000000</td>\n",
       "      <td>0.000000</td>\n",
       "    </tr>\n",
       "    <tr>\n",
       "      <th>75%</th>\n",
       "      <td>6.000000</td>\n",
       "      <td>140.250000</td>\n",
       "      <td>80.000000</td>\n",
       "      <td>32.000000</td>\n",
       "      <td>127.250000</td>\n",
       "      <td>36.600000</td>\n",
       "      <td>0.626250</td>\n",
       "      <td>41.000000</td>\n",
       "      <td>1.000000</td>\n",
       "    </tr>\n",
       "    <tr>\n",
       "      <th>max</th>\n",
       "      <td>17.000000</td>\n",
       "      <td>199.000000</td>\n",
       "      <td>122.000000</td>\n",
       "      <td>99.000000</td>\n",
       "      <td>846.000000</td>\n",
       "      <td>67.100000</td>\n",
       "      <td>2.420000</td>\n",
       "      <td>81.000000</td>\n",
       "      <td>1.000000</td>\n",
       "    </tr>\n",
       "  </tbody>\n",
       "</table>\n",
       "</div>"
      ],
      "text/plain": [
       "       Pregnancies     Glucose  BloodPressure  SkinThickness     Insulin  \\\n",
       "count   768.000000  768.000000     768.000000     768.000000  768.000000   \n",
       "mean      3.845052  120.894531      69.105469      20.536458   79.799479   \n",
       "std       3.369578   31.972618      19.355807      15.952218  115.244002   \n",
       "min       0.000000    0.000000       0.000000       0.000000    0.000000   \n",
       "25%       1.000000   99.000000      62.000000       0.000000    0.000000   \n",
       "50%       3.000000  117.000000      72.000000      23.000000   30.500000   \n",
       "75%       6.000000  140.250000      80.000000      32.000000  127.250000   \n",
       "max      17.000000  199.000000     122.000000      99.000000  846.000000   \n",
       "\n",
       "              BMI  DiabetesPedigreeFunction         Age     Outcome  \n",
       "count  768.000000                768.000000  768.000000  768.000000  \n",
       "mean    31.992578                  0.471876   33.240885    0.348958  \n",
       "std      7.884160                  0.331329   11.760232    0.476951  \n",
       "min      0.000000                  0.078000   21.000000    0.000000  \n",
       "25%     27.300000                  0.243750   24.000000    0.000000  \n",
       "50%     32.000000                  0.372500   29.000000    0.000000  \n",
       "75%     36.600000                  0.626250   41.000000    1.000000  \n",
       "max     67.100000                  2.420000   81.000000    1.000000  "
      ]
     },
     "execution_count": 7,
     "metadata": {},
     "output_type": "execute_result"
    }
   ],
   "source": [
    "df.describe()"
   ]
  },
  {
   "cell_type": "code",
   "execution_count": 8,
   "metadata": {},
   "outputs": [
    {
     "data": {
      "image/png": "[encoded data removed]",
      "text/plain": [
       "<Figure size 1000x800 with 9 Axes>"
      ]
     },
     "metadata": {},
     "output_type": "display_data"
    }
   ],
   "source": [
    "df.hist(figsize=(10,8))\n",
    "plt.show()"
   ]
  },
  {
   "cell_type": "code",
   "execution_count": 11,
   "metadata": {},
   "outputs": [
    {
     "data": {
      "image/png": "[encoded data removed]",
      "text/plain": [
       "<Figure size 640x480 with 2 Axes>"
      ]
     },
     "metadata": {},
     "output_type": "display_data"
    }
   ],
   "source": [
    "sns.heatmap(df.corr(), annot=True)\n",
    "plt.show()"
   ]
  },
  {
   "cell_type": "code",
   "execution_count": 12,
   "metadata": {},
   "outputs": [
    {
     "data": {
      "text/plain": [
       "Pregnancies                 0\n",
       "Glucose                     0\n",
       "BloodPressure               0\n",
       "SkinThickness               0\n",
       "Insulin                     0\n",
       "BMI                         0\n",
       "DiabetesPedigreeFunction    0\n",
       "Age                         0\n",
       "Outcome                     0\n",
       "dtype: int64"
      ]
     },
     "execution_count": 12,
     "metadata": {},
     "output_type": "execute_result"
    }
   ],
   "source": [
    "df.isnull().sum()"
   ]
  },
  {
   "cell_type": "code",
   "execution_count": 13,
   "metadata": {},
   "outputs": [
    {
     "data": {
      "text/html": [
       "<div>\n",
       "<style scoped>\n",
       "    .dataframe tbody tr th:only-of-type {\n",
       "        vertical-align: middle;\n",
       "    }\n",
       "\n",
       "    .dataframe tbody tr th {\n",
       "        vertical-align: top;\n",
       "    }\n",
       "\n",
       "    .dataframe thead th {\n",
       "        text-align: right;\n",
       "    }\n",
       "</style>\n",
       "<table border=\"1\" class=\"dataframe\">\n",
       "  <thead>\n",
       "    <tr style=\"text-align: right;\">\n",
       "      <th></th>\n",
       "      <th>Pregnancies</th>\n",
       "      <th>Glucose</th>\n",
       "      <th>BloodPressure</th>\n",
       "      <th>SkinThickness</th>\n",
       "      <th>Insulin</th>\n",
       "      <th>BMI</th>\n",
       "      <th>DiabetesPedigreeFunction</th>\n",
       "      <th>Age</th>\n",
       "      <th>Outcome</th>\n",
       "    </tr>\n",
       "  </thead>\n",
       "  <tbody>\n",
       "    <tr>\n",
       "      <th>0</th>\n",
       "      <td>6</td>\n",
       "      <td>148</td>\n",
       "      <td>72</td>\n",
       "      <td>35</td>\n",
       "      <td>0</td>\n",
       "      <td>33.6</td>\n",
       "      <td>0.627</td>\n",
       "      <td>50</td>\n",
       "      <td>1</td>\n",
       "    </tr>\n",
       "    <tr>\n",
       "      <th>1</th>\n",
       "      <td>1</td>\n",
       "      <td>85</td>\n",
       "      <td>66</td>\n",
       "      <td>29</td>\n",
       "      <td>0</td>\n",
       "      <td>26.6</td>\n",
       "      <td>0.351</td>\n",
       "      <td>31</td>\n",
       "      <td>0</td>\n",
       "    </tr>\n",
       "    <tr>\n",
       "      <th>2</th>\n",
       "      <td>8</td>\n",
       "      <td>183</td>\n",
       "      <td>64</td>\n",
       "      <td>0</td>\n",
       "      <td>0</td>\n",
       "      <td>23.3</td>\n",
       "      <td>0.672</td>\n",
       "      <td>32</td>\n",
       "      <td>1</td>\n",
       "    </tr>\n",
       "    <tr>\n",
       "      <th>3</th>\n",
       "      <td>1</td>\n",
       "      <td>89</td>\n",
       "      <td>66</td>\n",
       "      <td>23</td>\n",
       "      <td>94</td>\n",
       "      <td>28.1</td>\n",
       "      <td>0.167</td>\n",
       "      <td>21</td>\n",
       "      <td>0</td>\n",
       "    </tr>\n",
       "    <tr>\n",
       "      <th>4</th>\n",
       "      <td>0</td>\n",
       "      <td>137</td>\n",
       "      <td>40</td>\n",
       "      <td>35</td>\n",
       "      <td>168</td>\n",
       "      <td>43.1</td>\n",
       "      <td>2.288</td>\n",
       "      <td>33</td>\n",
       "      <td>1</td>\n",
       "    </tr>\n",
       "    <tr>\n",
       "      <th>...</th>\n",
       "      <td>...</td>\n",
       "      <td>...</td>\n",
       "      <td>...</td>\n",
       "      <td>...</td>\n",
       "      <td>...</td>\n",
       "      <td>...</td>\n",
       "      <td>...</td>\n",
       "      <td>...</td>\n",
       "      <td>...</td>\n",
       "    </tr>\n",
       "    <tr>\n",
       "      <th>763</th>\n",
       "      <td>10</td>\n",
       "      <td>101</td>\n",
       "      <td>76</td>\n",
       "      <td>48</td>\n",
       "      <td>180</td>\n",
       "      <td>32.9</td>\n",
       "      <td>0.171</td>\n",
       "      <td>63</td>\n",
       "      <td>0</td>\n",
       "    </tr>\n",
       "    <tr>\n",
       "      <th>764</th>\n",
       "      <td>2</td>\n",
       "      <td>122</td>\n",
       "      <td>70</td>\n",
       "      <td>27</td>\n",
       "      <td>0</td>\n",
       "      <td>36.8</td>\n",
       "      <td>0.340</td>\n",
       "      <td>27</td>\n",
       "      <td>0</td>\n",
       "    </tr>\n",
       "    <tr>\n",
       "      <th>765</th>\n",
       "      <td>5</td>\n",
       "      <td>121</td>\n",
       "      <td>72</td>\n",
       "      <td>23</td>\n",
       "      <td>112</td>\n",
       "      <td>26.2</td>\n",
       "      <td>0.245</td>\n",
       "      <td>30</td>\n",
       "      <td>0</td>\n",
       "    </tr>\n",
       "    <tr>\n",
       "      <th>766</th>\n",
       "      <td>1</td>\n",
       "      <td>126</td>\n",
       "      <td>60</td>\n",
       "      <td>0</td>\n",
       "      <td>0</td>\n",
       "      <td>30.1</td>\n",
       "      <td>0.349</td>\n",
       "      <td>47</td>\n",
       "      <td>1</td>\n",
       "    </tr>\n",
       "    <tr>\n",
       "      <th>767</th>\n",
       "      <td>1</td>\n",
       "      <td>93</td>\n",
       "      <td>70</td>\n",
       "      <td>31</td>\n",
       "      <td>0</td>\n",
       "      <td>30.4</td>\n",
       "      <td>0.315</td>\n",
       "      <td>23</td>\n",
       "      <td>0</td>\n",
       "    </tr>\n",
       "  </tbody>\n",
       "</table>\n",
       "<p>768 rows × 9 columns</p>\n",
       "</div>"
      ],
      "text/plain": [
       "     Pregnancies  Glucose  BloodPressure  SkinThickness  Insulin   BMI  \\\n",
       "0              6      148             72             35        0  33.6   \n",
       "1              1       85             66             29        0  26.6   \n",
       "2              8      183             64              0        0  23.3   \n",
       "3              1       89             66             23       94  28.1   \n",
       "4              0      137             40             35      168  43.1   \n",
       "..           ...      ...            ...            ...      ...   ...   \n",
       "763           10      101             76             48      180  32.9   \n",
       "764            2      122             70             27        0  36.8   \n",
       "765            5      121             72             23      112  26.2   \n",
       "766            1      126             60              0        0  30.1   \n",
       "767            1       93             70             31        0  30.4   \n",
       "\n",
       "     DiabetesPedigreeFunction  Age  Outcome  \n",
       "0                       0.627   50        1  \n",
       "1                       0.351   31        0  \n",
       "2                       0.672   32        1  \n",
       "3                       0.167   21        0  \n",
       "4                       2.288   33        1  \n",
       "..                        ...  ...      ...  \n",
       "763                     0.171   63        0  \n",
       "764                     0.340   27        0  \n",
       "765                     0.245   30        0  \n",
       "766                     0.349   47        1  \n",
       "767                     0.315   23        0  \n",
       "\n",
       "[768 rows x 9 columns]"
      ]
     },
     "execution_count": 13,
     "metadata": {},
     "output_type": "execute_result"
    }
   ],
   "source": [
    "df.fillna(df.mean(), inplace=True)\n",
    "df"
   ]
  },
  {
   "cell_type": "markdown",
   "metadata": {},
   "source": [
    "### Matplotlib"
   ]
  },
  {
   "cell_type": "code",
   "execution_count": 38,
   "metadata": {},
   "outputs": [],
   "source": [
    "import matplotlib.pyplot as plt\n",
    "import numpy as np"
   ]
  },
  {
   "cell_type": "code",
   "execution_count": 39,
   "metadata": {},
   "outputs": [],
   "source": [
    "x = np.linspace(0, 10, 100)\n",
    "y = np.sin(x)"
   ]
  },
  {
   "cell_type": "code",
   "execution_count": 40,
   "metadata": {},
   "outputs": [
    {
     "data": {
      "image/png": "[encoded data removed]",
      "text/plain": [
       "<Figure size 640x480 with 1 Axes>"
      ]
     },
     "metadata": {},
     "output_type": "display_data"
    }
   ],
   "source": [
    "plt.plot(x,y)\n",
    "plt.xlabel('x')\n",
    "plt.ylabel('sin(x)')\n",
    "plt.title('Sine Wave')\n",
    "plt.show()"
   ]
  },
  {
   "cell_type": "code",
   "execution_count": 41,
   "metadata": {},
   "outputs": [
    {
     "data": {
      "image/png": "[encoded data removed]",
      "text/plain": [
       "<Figure size 640x480 with 1 Axes>"
      ]
     },
     "metadata": {},
     "output_type": "display_data"
    }
   ],
   "source": [
    "plt.scatter(x,y)\n",
    "plt.show()"
   ]
  },
  {
   "cell_type": "code",
   "execution_count": 42,
   "metadata": {},
   "outputs": [
    {
     "data": {
      "image/png": "[encoded data removed]",
      "text/plain": [
       "<Figure size 640x480 with 1 Axes>"
      ]
     },
     "metadata": {},
     "output_type": "display_data"
    }
   ],
   "source": [
    "data = [2,5,1,10]\n",
    "plt.bar(['A', 'B', 'C', 'D'], data)\n",
    "plt.show()"
   ]
  },
  {
   "cell_type": "code",
   "execution_count": 43,
   "metadata": {},
   "outputs": [
    {
     "data": {
      "image/png": "[encoded data removed]",
      "text/plain": [
       "<Figure size 640x480 with 1 Axes>"
      ]
     },
     "metadata": {},
     "output_type": "display_data"
    }
   ],
   "source": [
    "np.random.seed(196808888)\n",
    "data = np.random.randn(1000)\n",
    "plt.hist(data,bins=30)\n",
    "plt.show()"
   ]
  },
  {
   "cell_type": "markdown",
   "metadata": {},
   "source": [
    "### Seaborn"
   ]
  },
  {
   "cell_type": "code",
   "execution_count": 44,
   "metadata": {},
   "outputs": [],
   "source": [
    "import seaborn as sns"
   ]
  },
  {
   "cell_type": "code",
   "execution_count": 45,
   "metadata": {},
   "outputs": [],
   "source": [
    "tips = sns.load_dataset(\"tips\")"
   ]
  },
  {
   "cell_type": "code",
   "execution_count": 46,
   "metadata": {},
   "outputs": [
    {
     "data": {
      "image/png": "[encoded data removed]",
      "text/plain": [
       "<Figure size 500x500 with 1 Axes>"
      ]
     },
     "metadata": {},
     "output_type": "display_data"
    }
   ],
   "source": [
    "sns.displot(tips['tip'], kde = True) # 히스토그램과 커널 밀도 추정을 함께 표현\n",
    "plt.show()"
   ]
  },
  {
   "cell_type": "code",
   "execution_count": 47,
   "metadata": {},
   "outputs": [
    {
     "data": {
      "image/png": "[encoded data removed]",
      "text/plain": [
       "<Figure size 640x480 with 1 Axes>"
      ]
     },
     "metadata": {},
     "output_type": "display_data"
    }
   ],
   "source": [
    "sns.boxplot(x='sex', y='tip', data=tips)\n",
    "plt.show()"
   ]
  },
  {
   "cell_type": "code",
   "execution_count": 48,
   "metadata": {},
   "outputs": [
    {
     "data": {
      "image/png": "[encoded data removed]",
      "text/plain": [
       "<Figure size 640x480 with 1 Axes>"
      ]
     },
     "metadata": {},
     "output_type": "display_data"
    }
   ],
   "source": [
    "sns.scatterplot(x='total_bill', y='tip', data=tips)\n",
    "plt.show()"
   ]
  },
  {
   "cell_type": "code",
   "execution_count": 68,
   "metadata": {},
   "outputs": [
    {
     "name": "stdout",
     "output_type": "stream",
     "text": [
      "select 1.add 2.minus 3.multiply 4.divide 5.factorial 6.log10 7.sqrt 0.quit\n",
      "3.0\n",
      "\n",
      "QUIT\n"
     ]
    }
   ],
   "source": [
    "# 계산기 만들기\n",
    "import math \n",
    "\n",
    "def add(x,y):\n",
    "    return x+y\n",
    "def minus(x,y):\n",
    "    return x-y\n",
    "def multiply(x,y):\n",
    "    return x*y\n",
    "def divide(x,y):\n",
    "    return x/y\n",
    "def log(x):\n",
    "    return math.log(x)\n",
    "def sqrt(x):\n",
    "    return math.sqrt(x)\n",
    "\n",
    "print(\"select 1.add 2.minus 3.multiply 4.divide 5.factorial 6.log10 7.sqrt 0.quit\")\n",
    "\n",
    "while True:\n",
    "    choice = input(\"select 1/2/3/4/5/log/0 : \")\n",
    "    if choice == \"0\":\n",
    "        print(\"QUIT\")\n",
    "        break\n",
    "    \n",
    "    if choice == \"1\":\n",
    "        num1 = float(input(\"First Number : \"))\n",
    "        num2 = float(input(\"Second Number : \"))\n",
    "        print(add(num1, num2))\n",
    "    elif choice==\"2\":\n",
    "        num1 = float(input(\"First Number : \"))\n",
    "        num2 = float(input(\"Second Number : \"))\n",
    "        print(minus(num1, num2))\n",
    "    elif choice==\"3\":\n",
    "        num1 = float(input(\"First Number : \"))\n",
    "        num2 = float(input(\"Second Number : \"))\n",
    "        print(multiply(num1, num2))\n",
    "    elif choice==\"4\":\n",
    "        num1 = float(input(\"First Number : \"))\n",
    "        num2 = float(input(\"Second Number : \"))\n",
    "        print(divide(num1, num2))   \n",
    "    elif choice==\"5\":\n",
    "        num = int(input(\"Number : \"))\n",
    "        one = 1\n",
    "        for i in range(1,num+1):\n",
    "           one *= i\n",
    "        print(one) \n",
    "    elif choice==\"6\":\n",
    "        num = int(input(\"Number : \")) \n",
    "        print(log10(num))\n",
    "    elif choice==\"7\":\n",
    "        num = int(input(\"Number : \")) \n",
    "        print(sqrt(num))\n",
    "    else:\n",
    "        print(\"Wrong input.\")\n",
    "        \n",
    "    print()"
   ]
  },
  {
   "cell_type": "code",
   "execution_count": 67,
   "metadata": {},
   "outputs": [
    {
     "data": {
      "text/plain": [
       "2.0"
      ]
     },
     "execution_count": 67,
     "metadata": {},
     "output_type": "execute_result"
    }
   ],
   "source": [
    "math.log10(100)"
   ]
  },
  {
   "cell_type": "code",
   "execution_count": 64,
   "metadata": {},
   "outputs": [
    {
     "name": "stdout",
     "output_type": "stream",
     "text": [
      "result : 9\n"
     ]
    }
   ],
   "source": [
    "# eval()\n",
    "s = input(\"계산식 입력 : \")\n",
    "print(\"result : {}\".format(eval(s)))"
   ]
  },
  {
   "cell_type": "code",
   "execution_count": 27,
   "metadata": {},
   "outputs": [],
   "source": [
    "#GUI 계산기\n",
    "import tkinter as tkt  # tkinter 라이브러리 임포트 (GUI 생성)\n",
    "import math  # 수학 관련 함수 사용을 위한 math 라이브러리 임포트\n",
    "\n",
    "# Tkinter 윈도우 생성\n",
    "root = tkt.Tk()\n",
    "root.title(\"계산기\")  # 윈도우 제목 설정\n",
    "root.resizable(0, 0)  # 윈도우 크기 조정 불가\n",
    "root.wm_attributes(\"-topmost\", 1)  # 윈도우를 항상 최상위로 유지\n",
    "\n",
    "equa = \"\"  # 수식 초기화 (빈 문자열)\n",
    "equation = tkt.StringVar()  # tkinter 변수로 수식 값을 표시\n",
    "calculation = tkt.Label(root, textvariable=equation)  # 수식 라벨 생성\n",
    "equation.set(\"계산식을 입력 하세요 : \")  # 라벨 초기 텍스트 설정\n",
    "calculation.grid(row=2, columnspan=8)  # 라벨 배치 (2행에 8열에 걸쳐 배치)\n",
    "\n",
    "\n",
    "# 버튼이 눌렸을 때 호출되는 함수: 숫자나 연산자를 수식에 추가\n",
    "def bthPress(num):\n",
    "    global equa  # 전역 변수 equa에 값 추가\n",
    "    equa = equa + str(num)  # equa에 누른 숫자나 연산자 추가\n",
    "    equation.set(equa)  # 텍스트를 라벨에 업데이트\n",
    "\n",
    "# 소수점 버튼 클릭 시 호출되는 함수\n",
    "def btnDecimal():\n",
    "    global equa\n",
    "    # 연산자 뒤에는 소수점이 올 수 없도록 처리하고, 숫자 뒤에만 소수점을 추가\n",
    "    if not equa or equa[-1] in \"+-*/(\":\n",
    "        equa += \"0.\"  # 연산자 뒤에는 0. 으로 시작\n",
    "    elif \".\" not in equa.split()[-1]:  # 숫자 부분에만 소수점이 하나만 올 수 있도록\n",
    "        equa += \".\"\n",
    "    equation.set(equa)  # 텍스트를 라벨에 업데이트\n",
    "\n",
    "# '=' 버튼 클릭 시 호출되는 함수: 수식을 계산하고 결과를 라벨에 출력\n",
    "def EqualPress():\n",
    "     global equa\n",
    "     total = str(eval(equa))  # 수식 계산\n",
    "     equation.set(total)  # 계산 결과 라벨에 표시\n",
    "     equa = \"\"  # 수식 초기화\n",
    "\n",
    "# 'C' 버튼 클릭 시 호출되는 함수: 수식을 초기화\n",
    "def ClearPress():\n",
    "    global equa\n",
    "    equa = \"\"  # 수식 초기화\n",
    "    equation.set(\"\")  # 라벨 내용 초기화\n",
    "\n",
    "# 제곱근 버튼 클릭 시 호출되는 함수: 입력값의 제곱근 계산\n",
    "def SqrPress():\n",
    "    global equa\n",
    "    try:\n",
    "        result = math.sqrt(float(equa))  # 제곱근 계산\n",
    "        equation.set(str(result))  # 결과 라벨에 표시\n",
    "        equa = str(result)  # 계산된 값을 equa에 저장\n",
    "    except Exception as e:\n",
    "        equation.set(\"오류\")  # 예외 발생 시 \"오류\" 메시지 출력\n",
    "        equa = \"\"  # 수식 초기화\n",
    "\n",
    "# 백스페이스 버튼 클릭 시 호출되는 함수: 마지막 입력 문자 삭제\n",
    "def backspacePress():\n",
    "    global equa\n",
    "    equa = equa[:-1]  # 마지막 문자 제거\n",
    "    equation.set(equa)  # 라벨 내용 업데이트\n",
    "\n",
    "# 괄호 열기 '(' 버튼 클릭 시 호출되는 함수\n",
    "def openParenthesis():\n",
    "    global equa\n",
    "    equa = equa + \"(\"  # 수식에 '(' 추가\n",
    "    equation.set(equa)  # 라벨 내용 업데이트\n",
    "\n",
    "# 괄호 닫기 ')' 버튼 클릭 시 호출되는 함수\n",
    "def closeParenthesis():\n",
    "    global equa\n",
    "    equa = equa + \")\"  # 수식에 ')' 추가\n",
    "    equation.set(equa)  # 라벨 내용 업데이트\n",
    "\n",
    "# 키보드 입력 처리\n",
    "def keyPress(event):\n",
    "    global equa\n",
    "    key = event.char  # 눌린 키를 가져옵니다.\n",
    "\n",
    "    if key in \"0123456789\":  # 숫자 키\n",
    "        bthPress(key)\n",
    "    elif key in \"+-*/\":  # 연산자 키\n",
    "        bthPress(key)\n",
    "    elif key == \".\":  # 소수점 키\n",
    "        btnDecimal()\n",
    "    elif key == \"\\r\":  # Enter 키\n",
    "        EqualPress()\n",
    "    elif key == \"\\x08\":  # Backspace 키\n",
    "        backspacePress()\n",
    "    elif key == \"c\" or key == \"C\":  # Clear 키 (C 또는 c)\n",
    "        ClearPress()\n",
    "    elif key == \"(\":  # 열린 괄호\n",
    "        openParenthesis()\n",
    "    elif key == \")\":  # 닫힌 괄호\n",
    "        closeParenthesis()\n",
    "\n",
    "# 윈도우에 키보드 입력 이벤트 바인딩\n",
    "root.bind(\"<Key>\", keyPress)\n",
    "\n",
    "# 계산기 버튼 생성 및 배치\n",
    "Button0 = tkt.Button(root, text=\"0\", bg=\"skyblue\", command=lambda: bthPress(0), height=1, width=7, borderwidth=1 ,relief=tkt.SOLID)\n",
    "Button0.grid(row=8, column=2, padx=10, pady=10)  # '0' 버튼 배치\n",
    "\n",
    "Button1 = tkt.Button(root, text=\"1\", bg=\"skyblue\", command=lambda: bthPress(1), height=1, width=7, borderwidth=1 ,relief=tkt.SOLID)\n",
    "Button1.grid(row=5, column=1, padx=10, pady=10)  # '1' 버튼 배치\n",
    "\n",
    "Button2 = tkt.Button(root, text=\"2\", bg=\"skyblue\", command=lambda: bthPress(2), height=1, width=7, borderwidth=1 ,relief=tkt.SOLID)\n",
    "Button2.grid(row=5, column=2, padx=10, pady=10)  # '2' 버튼 배치\n",
    "\n",
    "Button3 = tkt.Button(root, text=\"3\", bg=\"skyblue\", command=lambda: bthPress(3), height=1, width=7, borderwidth=1 ,relief=tkt.SOLID)\n",
    "Button3.grid(row=5, column=3, padx=10, pady=10)  # '3' 버튼 배치\n",
    "\n",
    "Button4 = tkt.Button(root, text=\"4\", bg=\"skyblue\", command=lambda: bthPress(4), height=1, width=7, borderwidth=1 ,relief=tkt.SOLID)\n",
    "Button4.grid(row=6, column=1, padx=10, pady=10)  # '4' 버튼 배치\n",
    "\n",
    "Button5 = tkt.Button(root, text=\"5\", bg=\"skyblue\", command=lambda: bthPress(5), height=1, width=7, borderwidth=1 ,relief=tkt.SOLID)\n",
    "Button5.grid(row=6, column=2, padx=10, pady=10)  # '5' 버튼 배치\n",
    "\n",
    "Button6 = tkt.Button(root, text=\"6\", bg=\"skyblue\", command=lambda: bthPress(6), height=1, width=7, borderwidth=1 ,relief=tkt.SOLID)\n",
    "Button6.grid(row=6, column=3, padx=10, pady=10)  # '6' 버튼 배치\n",
    "\n",
    "Button7 = tkt.Button(root, text=\"7\", bg=\"skyblue\", command=lambda: bthPress(7), height=1, width=7, borderwidth=1 ,relief=tkt.SOLID)\n",
    "Button7.grid(row=7, column=1, padx=10, pady=10)  # '7' 버튼 배치\n",
    "\n",
    "Button8 = tkt.Button(root, text=\"8\", bg=\"skyblue\", command=lambda: bthPress(8), height=1, width=7, borderwidth=1 ,relief=tkt.SOLID)\n",
    "Button8.grid(row=7, column=2, padx=10, pady=10)  # '8' 버튼 배치\n",
    "\n",
    "Button9 = tkt.Button(root, text=\"9\", bg=\"skyblue\", command=lambda: bthPress(9), height=1, width=7, borderwidth=1 ,relief=tkt.SOLID)\n",
    "Button9.grid(row=7, column=3, padx=10, pady=10)  # '9' 버튼 배치\n",
    "\n",
    "# 연산자 버튼 배치\n",
    "Plus = tkt.Button(root, text=\"+\", bg=\"skyblue\", command=lambda: bthPress(\"+\"), height=1, width=7, borderwidth=1 ,relief=tkt.SOLID)\n",
    "Plus.grid(row=5, column=4, padx=10, pady=10)  # '+' 버튼 배치\n",
    "\n",
    "Minus = tkt.Button(root, text=\"-\", bg=\"skyblue\", command=lambda: bthPress(\"-\"), height=1, width=7, borderwidth=1 ,relief=tkt.SOLID)\n",
    "Minus.grid(row=6, column=4, padx=10, pady=10)  # '-' 버튼 배치\n",
    "\n",
    "Multiply = tkt.Button(root, text=\"*\", bg=\"skyblue\", command=lambda: bthPress(\"*\"), height=1, width=7, borderwidth=1 ,relief=tkt.SOLID)\n",
    "Multiply.grid(row=7, column=4, padx=10, pady=10)  # '*' 버튼 배치\n",
    "\n",
    "Divide = tkt.Button(root, text=\"/\", bg=\"skyblue\", command=lambda: bthPress(\"/\"), height=1, width=7, borderwidth=1 ,relief=tkt.SOLID)\n",
    "Divide.grid(row=8, column=4, padx=10, pady=10)  # '/' 버튼 배치\n",
    "\n",
    "Equal = tkt.Button(root, text=\"=\", bg=\"skyblue\", command=lambda: EqualPress(), height=1, width=7, borderwidth=1 ,relief=tkt.SOLID)\n",
    "Equal.grid(row=8, column=3, padx=10, pady=10)  # '=' 버튼 배치\n",
    "\n",
    "Clear = tkt.Button(root, text=\"C\", bg=\"skyblue\", command=lambda: ClearPress(), height=1, width=7, borderwidth=1 ,relief=tkt.SOLID)\n",
    "Clear.grid(row=8, column=1, padx=10, pady=10)  # 'C' 버튼 배치\n",
    "\n",
    "Decimal = tkt.Button(root, text=\".\", bg=\"skyblue\", command=lambda: btnDecimal(), height=1, width=7, borderwidth=1 ,relief=tkt.SOLID)\n",
    "Decimal.grid(row=8, column=4, padx=10, pady=10)  # '.' 버튼 배치\n",
    "\n",
    "Sqrt = tkt.Button(root, text=\"√\", bg=\"skyblue\", command=lambda: SqrPress(), height=1, width=7, borderwidth=1 ,relief=tkt.SOLID)\n",
    "Sqrt.grid(row=4, column=1, padx=10, pady=10)  # 제곱근 버튼 배치\n",
    "\n",
    "OpenParenthesis = tkt.Button(root, text=\"(\", bg=\"skyblue\", command=lambda: openParenthesis(), height=1, width=7, borderwidth=1 ,relief=tkt.SOLID)\n",
    "OpenParenthesis.grid(row=4, column=2, padx=10, pady=10)  # '(' 버튼 배치\n",
    "\n",
    "CloseParenthesis = tkt.Button(root, text=\")\", bg=\"skyblue\", command=lambda: closeParenthesis(), height=1, width=7, borderwidth=1 ,relief=tkt.SOLID)\n",
    "CloseParenthesis.grid(row=4, column=3, padx=10, pady=10)  # ')' 버튼 배치\n",
    "\n",
    "Backspace = tkt.Button(root, text=\"←\", bg='white', command=lambda: backspacePress(), height=1, width=7, borderwidth=1 ,relief=tkt.SOLID)\n",
    "Backspace.grid(row=4, column=4, padx=10, pady=10)  # 백스페이스 버튼 배치\n",
    "\n",
    "# GUI 실행\n",
    "root.mainloop()"
   ]
  },
  {
   "cell_type": "markdown",
   "metadata": {},
   "source": [
    "#### With"
   ]
  },
  {
   "cell_type": "code",
   "execution_count": 15,
   "metadata": {},
   "outputs": [],
   "source": [
    "with open(r'C:/AI_project/dataset/human.txt', 'a') as f:\n",
    "    f.write('Hello\\n')\n",
    "    f.write('Python\\n')\n",
    "    f.write('     ')"
   ]
  },
  {
   "cell_type": "code",
   "execution_count": 26,
   "metadata": {},
   "outputs": [
    {
     "name": "stdout",
     "output_type": "stream",
     "text": [
      "Hello\n",
      "\n",
      "Python\n",
      "\n",
      "Hello\n",
      "\n",
      "Python\n",
      "\n",
      "Hello\n",
      "\n",
      "Python\n",
      "\n",
      "     Hello\n",
      "\n",
      "Python\n",
      "\n",
      "     Hello\n",
      "\n",
      "Python\n",
      "\n",
      "     Hello\n",
      "\n",
      "Python\n",
      "\n",
      "     \n"
     ]
    }
   ],
   "source": [
    "with open('C:/AI_project/dataset/human.txt', 'r') as f:\n",
    "    while True:\n",
    "        line = f.readline()\n",
    "        if not line: break\n",
    "        print(line)\n",
    "    f.close()"
   ]
  },
  {
   "cell_type": "markdown",
   "metadata": {},
   "source": [
    "### Class"
   ]
  },
  {
   "cell_type": "code",
   "execution_count": 32,
   "metadata": {},
   "outputs": [
    {
     "name": "stdout",
     "output_type": "stream",
     "text": [
      "Bowwow is barking.\n"
     ]
    }
   ],
   "source": [
    "class Dog:\n",
    "    def __init__(self, name):\n",
    "        self.name = name\n",
    "    def bark(self):\n",
    "        print(f\"{self.name} is barking.\")\n",
    "\n",
    "my_dog = Dog(\"Bowwow\")\n",
    "my_dog.bark()\n",
    "        "
   ]
  },
  {
   "cell_type": "code",
   "execution_count": 35,
   "metadata": {},
   "outputs": [
    {
     "name": "stdout",
     "output_type": "stream",
     "text": [
      "Kitty\n",
      "Kitty says mewo.\n",
      "Mio\n",
      "Mio says mewo.\n"
     ]
    }
   ],
   "source": [
    "class Animal:\n",
    "    def __init__(self, name):\n",
    "        self.name = name\n",
    "    def speak(self):\n",
    "        pass\n",
    "    \n",
    "class Cat(Animal):\n",
    "    def speak(self):\n",
    "        return f\"{self.name} says mewo.\"\n",
    "    \n",
    "cat1 = Cat(\"Kitty\")\n",
    "print(cat1.name)\n",
    "print(cat1.speak())\n",
    "\n",
    "cat2 = Cat(\"Mio\")\n",
    "print(cat2.name)\n",
    "print(cat2.speak())"
   ]
  },
  {
   "cell_type": "code",
   "execution_count": 37,
   "metadata": {},
   "outputs": [
    {
     "name": "stdout",
     "output_type": "stream",
     "text": [
      "1000\n"
     ]
    }
   ],
   "source": [
    "class BankAccount:\n",
    "    def __init__(self):\n",
    "        self.__balance = 0 # 비공개 변수, private\n",
    "    def deposit(self, amount):\n",
    "        if amount > 0:\n",
    "            self.__balance += amount\n",
    "    def get_balance(self):\n",
    "        return self.__balance\n",
    "    \n",
    "account = BankAccount()\n",
    "account.deposit(1000)\n",
    "print(account.get_balance())"
   ]
  },
  {
   "cell_type": "code",
   "execution_count": 39,
   "metadata": {},
   "outputs": [
    {
     "name": "stdout",
     "output_type": "stream",
     "text": [
      "Python Highschool\n",
      "Python Highschool\n",
      "Python Highschool\n",
      "2\n"
     ]
    }
   ],
   "source": [
    "class Student:\n",
    "    school_name = \"Python Highschool\"\n",
    "    student_count = 0\n",
    "    \n",
    "    def __init__(self, name):\n",
    "        self.name = name # Instant\n",
    "        Student.student_count += 1\n",
    "    \n",
    "student1 = Student(\"Amy\")\n",
    "student2 = Student(\"Michel\")\n",
    "\n",
    "print(Student.school_name)\n",
    "print(student1.school_name)\n",
    "print(student2.school_name)\n",
    "print(Student.student_count)"
   ]
  },
  {
   "cell_type": "code",
   "execution_count": 41,
   "metadata": {},
   "outputs": [
    {
     "name": "stdout",
     "output_type": "stream",
     "text": [
      "계산기를 초기화합니다.\n",
      "Add :  30\n",
      "Multiply :  30\n"
     ]
    }
   ],
   "source": [
    "class Cal:\n",
    "    def __init__(self):\n",
    "        print(\"계산기를 초기화합니다.\")\n",
    "        \n",
    "    def add(self, a, b):\n",
    "        return a + b\n",
    "    def multiply(self, a, b):\n",
    "        return a * b\n",
    "    \n",
    "calc = Cal()\n",
    "print(\"Add : \", calc.add(10,20))\n",
    "print(\"Multiply : \", calc.multiply(3,10))"
   ]
  },
  {
   "cell_type": "code",
   "execution_count": 42,
   "metadata": {},
   "outputs": [
    {
     "name": "stdout",
     "output_type": "stream",
     "text": [
      "Name : Dineal, Age : 16\n",
      "Name : Ariana, Age : 18\n"
     ]
    }
   ],
   "source": [
    "class Student:\n",
    "    def __init__(self, name, age):\n",
    "        self.name = name\n",
    "        self.age = age\n",
    "        \n",
    "    def display_info(self):\n",
    "        print(f\"Name : {self.name}, Age : {self.age}\")\n",
    "        \n",
    "student1 = Student(\"Dineal\", 16)\n",
    "student2 = Student(\"Ariana\", 18)\n",
    "\n",
    "student1.display_info()\n",
    "student2.display_info()"
   ]
  },
  {
   "cell_type": "code",
   "execution_count": 43,
   "metadata": {},
   "outputs": [
    {
     "name": "stdout",
     "output_type": "stream",
     "text": [
      "Avengers의 할인된 가격 : 12000원\n"
     ]
    }
   ],
   "source": [
    "class MovieTicket:\n",
    "    def __init__(self, title, price):\n",
    "        self.title = title\n",
    "        self.price = price\n",
    "        \n",
    "    def apply_discount(self,discount):\n",
    "        self.price -= discount\n",
    "        print(f\"{self.title}의 할인된 가격 : {self.price}원\")\n",
    "        \n",
    "ticket = MovieTicket(\"Avengers\", 14000)\n",
    "ticket.apply_discount(2000)"
   ]
  },
  {
   "cell_type": "code",
   "execution_count": 51,
   "metadata": {},
   "outputs": [
    {
     "name": "stdout",
     "output_type": "stream",
     "text": [
      "100000원이 입금되었습니다. 현재 잔액 : 200000원.\n",
      "5000원이 출금되었습니다. 현재 잔액 : 195000원\n",
      "잔액이 부족합니다.\n"
     ]
    }
   ],
   "source": [
    "class BankAccount:\n",
    "    def __init__(self, owner, balance=0):\n",
    "        self.owner = owner\n",
    "        self.balance = balance\n",
    "    \n",
    "    # 입금\n",
    "    def deposit(self, amount):\n",
    "        self.balance += amount\n",
    "        print(f\"{amount}원이 입금되었습니다. 현재 잔액 : {self.balance}원.\")\n",
    "    \n",
    "    # 출금\n",
    "    def withdraw(self, amount):\n",
    "        if amount > self.balance:\n",
    "            print(\"잔액이 부족합니다.\")\n",
    "        else:\n",
    "            self.balance -= amount\n",
    "            print(f\"{amount}원이 출금되었습니다. 현재 잔액 : {self.balance}원\")\n",
    "            \n",
    "# 클래스 외부에서 객체를 생성하고 메서드를 호출            \n",
    "account = BankAccount(\"Brian\", 100000)\n",
    "account.deposit(100000)\n",
    "account.withdraw(5000)\n",
    "account.withdraw(1000000)"
   ]
  },
  {
   "cell_type": "code",
   "execution_count": 2,
   "metadata": {},
   "outputs": [
    {
     "name": "stdout",
     "output_type": "stream",
     "text": [
      "2020 Ford Mustang\n"
     ]
    }
   ],
   "source": [
    "class Car:\n",
    "  def __init__(self, make, model, year):\n",
    "    self.make = make\n",
    "    self.model = model\n",
    "    self.year = year\n",
    "  \n",
    "  def get_info(self):\n",
    "    print(f\"{self.year} {self.make} {self.model}\")\n",
    "\n",
    "car1 = Car(\"Ford\", \"Mustang\", 2020)\n",
    "car1.get_info()"
   ]
  },
  {
   "cell_type": "code",
   "execution_count": 9,
   "metadata": {},
   "outputs": [
    {
     "name": "stdout",
     "output_type": "stream",
     "text": [
      "70\n",
      "34\n"
     ]
    }
   ],
   "source": [
    "class Rectangle:\n",
    "    def __init__(self, width, height):\n",
    "        self.width = width\n",
    "        self.height = height\n",
    "    \n",
    "    # 넓이    \n",
    "    def area(self):\n",
    "        return self.width * self.height\n",
    "    \n",
    "    # 둘레\n",
    "    def perimeter(self):\n",
    "        return 2*self.width + 2*self.height\n",
    "        \n",
    "rect = Rectangle(10,7)\n",
    "print(rect.area())\n",
    "print(rect.perimeter())        "
   ]
  },
  {
   "cell_type": "code",
   "execution_count": 11,
   "metadata": {},
   "outputs": [
    {
     "name": "stdout",
     "output_type": "stream",
     "text": [
      "안녕하세요, 제 이름은 Moon이고, 나이는 26입니다.\n"
     ]
    }
   ],
   "source": [
    "class Person:\n",
    "    def __init__(self, name, age):\n",
    "        self.name = name\n",
    "        self.age = age\n",
    "        \n",
    "    def greet(self):\n",
    "        print(f\"안녕하세요, 제 이름은 {self.name}이고, 나이는 {self.age}입니다.\")\n",
    "        \n",
    "per = Person(\"Moon\", 26)\n",
    "per.greet()        "
   ]
  },
  {
   "cell_type": "code",
   "execution_count": 14,
   "metadata": {},
   "outputs": [
    {
     "name": "stdout",
     "output_type": "stream",
     "text": [
      "나는 포유류입니다.\n",
      "나는 개입니다.\n"
     ]
    }
   ],
   "source": [
    "class Animal:\n",
    "    def __init__(self, name, species):\n",
    "        self.name = name\n",
    "        self.species = species\n",
    "        \n",
    "    def speak(self):\n",
    "        return f\"나는 {self.species}입니다.\"\n",
    "        \n",
    "class Dog(Animal):\n",
    "    def speak(self):\n",
    "        return f\"나는 개입니다.\"\n",
    "    \n",
    "animal = Animal(\"동물\", \"포유류\")\n",
    "dog = Dog(\"강아지\", \"개\")\n",
    "\n",
    "print(animal.speak())\n",
    "print(dog.speak())\n",
    "            "
   ]
  },
  {
   "cell_type": "code",
   "execution_count": 22,
   "metadata": {},
   "outputs": [
    {
     "name": "stdout",
     "output_type": "stream",
     "text": [
      "3\n"
     ]
    }
   ],
   "source": [
    "class Book:\n",
    "    \n",
    "    book_count = 0\n",
    "    \n",
    "    def __init__(self, title, author):\n",
    "        self.title = title\n",
    "        self.author = author\n",
    "        Book.book_count += 1\n",
    "       \n",
    "    @classmethod    \n",
    "    def get_book_count(clas):\n",
    "        return clas.book_count\n",
    "    \n",
    "book1 = Book(\"book1\", \"author1\")\n",
    "book2 = Book(\"book2\", \"author2\")\n",
    "book3 = Book(\"book3\", \"author3\")\n",
    "\n",
    "print(Book.get_book_count())\n",
    "    \n",
    "        "
   ]
  },
  {
   "cell_type": "code",
   "execution_count": null,
   "metadata": {},
   "outputs": [],
   "source": []
  }
 ],
 "metadata": {
  "kernelspec": {
   "display_name": ".venv",
   "language": "python",
   "name": "python3"
  },
  "language_info": {
   "codemirror_mode": {
    "name": "ipython",
    "version": 3
   },
   "file_extension": ".py",
   "mimetype": "text/x-python",
   "name": "python",
   "nbconvert_exporter": "python",
   "pygments_lexer": "ipython3",
   "version": "3.10.6"
  }
 },
 "nbformat": 4,
 "nbformat_minor": 2
}
