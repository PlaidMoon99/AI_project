{
 "cells": [
  {
   "cell_type": "markdown",
   "metadata": {},
   "source": [
    "## TEST"
   ]
  },
  {
   "cell_type": "code",
   "execution_count": 1,
   "metadata": {},
   "outputs": [
    {
     "name": "stdout",
     "output_type": "stream",
     "text": [
      "hello, python\n"
     ]
    }
   ],
   "source": [
    "print(\"hello, python\")"
   ]
  },
  {
   "cell_type": "markdown",
   "metadata": {},
   "source": [
    "## BASIC PYTHON"
   ]
  },
  {
   "cell_type": "code",
   "execution_count": 1,
   "metadata": {},
   "outputs": [
    {
     "name": "stdout",
     "output_type": "stream",
     "text": [
      "10 -20\n"
     ]
    }
   ],
   "source": [
    "num1 = 10\n",
    "num2 = -20\n",
    "print(num1,num2)\n"
   ]
  },
  {
   "cell_type": "code",
   "execution_count": 2,
   "metadata": {},
   "outputs": [
    {
     "name": "stdout",
     "output_type": "stream",
     "text": [
      "3.14 -2.718\n"
     ]
    }
   ],
   "source": [
    "num1 = 3.14\n",
    "num2 = -2.718\n",
    "print(num1,num2)"
   ]
  },
  {
   "cell_type": "code",
   "execution_count": 5,
   "metadata": {},
   "outputs": [
    {
     "name": "stdout",
     "output_type": "stream",
     "text": [
      "Hello Python\n"
     ]
    }
   ],
   "source": [
    " str1 = 'Hello'\n",
    " str2 = \"Python\"\n",
    "\n",
    " print(str1, str2)"
   ]
  },
  {
   "cell_type": "code",
   "execution_count": 7,
   "metadata": {},
   "outputs": [
    {
     "name": "stdout",
     "output_type": "stream",
     "text": [
      "This is \n",
      "a multi-line\n",
      "string.\n"
     ]
    }
   ],
   "source": [
    "str3 = '''This is \n",
    "a multi-line\n",
    "string.'''\n",
    "print(str3)"
   ]
  },
  {
   "cell_type": "code",
   "execution_count": 8,
   "metadata": {},
   "outputs": [
    {
     "name": "stdout",
     "output_type": "stream",
     "text": [
      "P\n",
      "n\n"
     ]
    }
   ],
   "source": [
    "text = \"Python\"\n",
    "print(text[0])\n",
    "print(text[-1])"
   ]
  },
  {
   "cell_type": "code",
   "execution_count": 9,
   "metadata": {},
   "outputs": [
    {
     "name": "stdout",
     "output_type": "stream",
     "text": [
      "Pyt\n",
      "Pto\n"
     ]
    }
   ],
   "source": [
    "text = \"Python\"\n",
    "print(text[0:3])\n",
    "print(text[::2])"
   ]
  },
  {
   "cell_type": "code",
   "execution_count": 21,
   "metadata": {},
   "outputs": [
    {
     "name": "stdout",
     "output_type": "stream",
     "text": [
      "e\n",
      "exi\n",
      "Slic\n"
     ]
    }
   ],
   "source": [
    "text = \"indexing Slicing\"\n",
    "print(text[3])\n",
    "print(text[3:6])\n",
    "print(text[-7:-3])"
   ]
  },
  {
   "cell_type": "code",
   "execution_count": 11,
   "metadata": {},
   "outputs": [
    {
     "name": "stdout",
     "output_type": "stream",
     "text": [
      "PYTHON\n",
      "python\n"
     ]
    }
   ],
   "source": [
    "text = \"Python\"\n",
    "print(text.upper())\n",
    "print(text.lower())"
   ]
  },
  {
   "cell_type": "code",
   "execution_count": 23,
   "metadata": {},
   "outputs": [
    {
     "name": "stdout",
     "output_type": "stream",
     "text": [
      "1\n",
      "3\n",
      "3\n",
      "9\n"
     ]
    }
   ],
   "source": [
    "text = \"banana\"\n",
    "txt = \"AI Compiler Engineer\"\n",
    "print(text.find('a'))\n",
    "print(text.count('a'))\n",
    "print(txt.count('e'))\n",
    "print(txt.find('e'))\n"
   ]
  },
  {
   "cell_type": "code",
   "execution_count": 26,
   "metadata": {},
   "outputs": [
    {
     "name": "stdout",
     "output_type": "stream",
     "text": [
      "Hello world\n",
      "Hello\n"
     ]
    }
   ],
   "source": [
    "text = \" Hello world    \"\n",
    "print(text.strip())\n",
    "print(text[:6].lstrip())"
   ]
  },
  {
   "cell_type": "code",
   "execution_count": 16,
   "metadata": {},
   "outputs": [
    {
     "name": "stdout",
     "output_type": "stream",
     "text": [
      "['Python', 'is', 'fun']\n",
      "Pythonisfun\n"
     ]
    }
   ],
   "source": [
    "text = \"Python is fun\"\n",
    "words = text.split()\n",
    "print(words)\n",
    "joined_text = ''.join(words)\n",
    "print(joined_text)"
   ]
  },
  {
   "cell_type": "code",
   "execution_count": 27,
   "metadata": {},
   "outputs": [
    {
     "name": "stdout",
     "output_type": "stream",
     "text": [
      "My name is Alice and I am 30 years old.\n"
     ]
    }
   ],
   "source": [
    "# Formatting\n",
    "\n",
    "name = \"Alice\"\n",
    "age = 30\n",
    "print(f\"My name is {name} and I am {age} years old.\")"
   ]
  },
  {
   "cell_type": "code",
   "execution_count": 30,
   "metadata": {},
   "outputs": [
    {
     "name": "stdout",
     "output_type": "stream",
     "text": [
      "Hello\n",
      "Python\n",
      "Using\tTab\texample\n",
      "Print \\ backslash\n"
     ]
    }
   ],
   "source": [
    "print(\"Hello\\nPython\")\n",
    "print(\"Using\\tTab\\texample\")\n",
    "print(\"Print \\\\ backslash\")"
   ]
  },
  {
   "cell_type": "code",
   "execution_count": 31,
   "metadata": {},
   "outputs": [
    {
     "name": "stdout",
     "output_type": "stream",
     "text": [
      "False\n",
      "True\n",
      "False\n"
     ]
    }
   ],
   "source": [
    "a = True\n",
    "b = False\n",
    "print(a and b)\n",
    "print(a or b)\n",
    "print(not a)"
   ]
  },
  {
   "cell_type": "code",
   "execution_count": 32,
   "metadata": {},
   "outputs": [
    {
     "name": "stdout",
     "output_type": "stream",
     "text": [
      "NO\n"
     ]
    }
   ],
   "source": [
    "is_authenticated = True\n",
    "has_permission = False\n",
    "if is_authenticated and has_permission:\n",
    "    print(\"YES\")\n",
    "else:\n",
    "    print(\"NO\")"
   ]
  },
  {
   "cell_type": "code",
   "execution_count": 41,
   "metadata": {},
   "outputs": [
    {
     "name": "stdout",
     "output_type": "stream",
     "text": [
      "['Banana', 'Cherry', 'Mango']\n",
      "Apple\n",
      "['Apple', 'Banana']\n",
      "<class 'int'>\n",
      "Mango\n"
     ]
    }
   ],
   "source": [
    "empty_list = [] # list : 수정가능, tuple : 수정불가/immutable한 값\n",
    "\n",
    "num = [1,2,3,4,5,7,9,11]\n",
    "fruits = [\"Apple\", \"Banana\", \"Cherry\", \"Mango\"]\n",
    "\n",
    "print(fruits[1:4])\n",
    "print(fruits[0])\n",
    "print(fruits[0:2])\n",
    "print(type(num[7]))\n",
    "print(fruits[num[2]])"
   ]
  },
  {
   "cell_type": "code",
   "execution_count": 46,
   "metadata": {},
   "outputs": [
    {
     "name": "stdout",
     "output_type": "stream",
     "text": [
      "[2, 1, 4, 2, 5, 3, 9]\n",
      "[1, 2, 2, 3, 4, 5, 9]\n",
      "[1, 2, 3, 4, 5, 9]\n",
      "[1, 2, 4, 5, 9]\n",
      "3\n",
      "[9, 5, 4, 2, 1]\n",
      "1\n",
      "[9, 5, 4, 2, 1]\n",
      "[9, 5, 4, 2, 1]\n",
      "[9, 5, 4, 2, 1, 10, 11, 12]\n"
     ]
    }
   ],
   "source": [
    "num = [2,1,4,2,5,3]\n",
    "\n",
    "num.append(9)\n",
    "print(num)\n",
    "\n",
    "num.sort()\n",
    "print(num)\n",
    "\n",
    "num.remove(2)\n",
    "print(num)\n",
    "\n",
    "removed_items = num.pop(2)\n",
    "print(num)\n",
    "print(removed_items)\n",
    "\n",
    "num.reverse()\n",
    "print(num)\n",
    "\n",
    "count = num.count(9)\n",
    "print(count)\n",
    "\n",
    "new_num = num.copy()\n",
    "print(new_num)\n",
    "print(num)\n",
    "\n",
    "another_list = [10,11,12]\n",
    "combined_list = num +another_list\n",
    "print(combined_list)"
   ]
  },
  {
   "cell_type": "code",
   "execution_count": 48,
   "metadata": {},
   "outputs": [
    {
     "name": "stdout",
     "output_type": "stream",
     "text": [
      "('red', 'yellow')\n"
     ]
    }
   ],
   "source": [
    "empty_tuple = 0\n",
    "single_ele = (5,)\n",
    "\n",
    "colors = (\"red\", \"yellow\", \"blue\", \"green\")\n",
    "print(colors[:2])"
   ]
  },
  {
   "cell_type": "code",
   "execution_count": 54,
   "metadata": {},
   "outputs": [
    {
     "name": "stdout",
     "output_type": "stream",
     "text": [
      "2\n",
      "0\n",
      "x :  2\n",
      "y :  4\n"
     ]
    }
   ],
   "source": [
    "nums = (1,2,3,4,2)\n",
    "print(nums.count(2))\n",
    "print(nums.index(1))\n",
    "\n",
    "point = (2,4)\n",
    "print(\"x : \",point[0])\n",
    "print(\"y : \",point[1])"
   ]
  },
  {
   "cell_type": "code",
   "execution_count": 55,
   "metadata": {},
   "outputs": [
    {
     "name": "stdout",
     "output_type": "stream",
     "text": [
      "Moon\n",
      "26\n",
      "27\n"
     ]
    }
   ],
   "source": [
    "# Dictionary\n",
    "empty_tuple = {}\n",
    "person = {\"name\" : \"Moon\", \"age\" : 26, \"city\" : \"New York\"}\n",
    "\n",
    "print(person[\"name\"])\n",
    "\n",
    "print(person[\"age\"])\n",
    "person[\"age\"] = 27\n",
    "print(person[\"age\"])"
   ]
  },
  {
   "cell_type": "code",
   "execution_count": 57,
   "metadata": {},
   "outputs": [
    {
     "name": "stdout",
     "output_type": "stream",
     "text": [
      "Moon\n",
      "dict_keys(['name', 'age'])\n",
      "dict_values(['Moon', 21])\n",
      "dict_items([('name', 'Moon'), ('age', 21)])\n"
     ]
    }
   ],
   "source": [
    "# get\n",
    "info = {\"name\":\"Moon\",\"age\":21}\n",
    "print(info.get(\"name\"))\n",
    "\n",
    "print(info.keys())\n",
    "\n",
    "print(info.values())\n",
    "\n",
    "print(info.items())"
   ]
  },
  {
   "cell_type": "markdown",
   "metadata": {},
   "source": [
    "#### Practice"
   ]
  },
  {
   "cell_type": "code",
   "execution_count": 59,
   "metadata": {},
   "outputs": [
    {
     "name": "stdout",
     "output_type": "stream",
     "text": [
      "25\n",
      "Los Angeles\n"
     ]
    }
   ],
   "source": [
    "#Dictionary\n",
    "\n",
    "person = {\n",
    "    \"name\" : \"Alice\",\n",
    "    \"age\" : 25, \n",
    "    \"city\" : \"New York\"\n",
    "}\n",
    "\n",
    "print(person[\"age\"])\n",
    "person[\"city\"] = \"Los Angeles\"\n",
    "print(person[\"city\"])"
   ]
  },
  {
   "cell_type": "code",
   "execution_count": 60,
   "metadata": {},
   "outputs": [
    {
     "name": "stdout",
     "output_type": "stream",
     "text": [
      "5\n",
      "20\n"
     ]
    }
   ],
   "source": [
    "# Tuple\n",
    "coordinates = (5, 10, 15, 20)\n",
    "print(coordinates[0])\n",
    "print(coordinates[-1])"
   ]
  },
  {
   "cell_type": "code",
   "execution_count": 61,
   "metadata": {},
   "outputs": [
    {
     "name": "stdout",
     "output_type": "stream",
     "text": [
      "['apple', 'cherry', 'banana', 'orange']\n"
     ]
    }
   ],
   "source": [
    "# List\n",
    "fruits = [\"apple\", \"banana\", \"cherry\", \"banana\"]\n",
    "\n",
    "fruits.remove(\"banana\")\n",
    "fruits.append(\"orange\")\n",
    "\n",
    "print(fruits)"
   ]
  },
  {
   "cell_type": "code",
   "execution_count": 62,
   "metadata": {},
   "outputs": [
    {
     "name": "stdout",
     "output_type": "stream",
     "text": [
      "['apple', 'cherry']\n",
      "['apple', 'cherry']\n"
     ]
    }
   ],
   "source": [
    "fruit2 = [\"apple\", \"banana\", \"cherry\", \"banana\"]\n",
    "fruit3 = [\"apple\", \"banana\", \"cherry\", \"banana\"]\n",
    "\n",
    "fruit2 = list(filter(lambda x: x != \"banana\", fruit2))\n",
    "print(fruit2)\n",
    "\n",
    "fruit3 = [fruit for fruit in fruit3 if fruit != \"banana\"]\n",
    "print(fruit3)"
   ]
  },
  {
   "cell_type": "code",
   "execution_count": 2,
   "metadata": {},
   "outputs": [
    {
     "name": "stdout",
     "output_type": "stream",
     "text": [
      "Pass\n",
      "Odd\n",
      "B\n"
     ]
    }
   ],
   "source": [
    "# IF\n",
    "score = 85\n",
    "if score > 80:\n",
    "    print(\"Pass\")\n",
    "    \n",
    "# IF ELSE\n",
    "num = 5\n",
    "if num % 2 == 0:\n",
    "    print(\"Even\")\n",
    "else:\n",
    "    print(\"Odd\")\n",
    "    \n",
    "# IF Elif Else\n",
    "score = 85\n",
    "if score >= 90:\n",
    "    print(\"A\")\n",
    "elif score >=80:\n",
    "    print(\"B\")\n",
    "else:\n",
    "    print(\"C\")"
   ]
  },
  {
   "cell_type": "code",
   "execution_count": 3,
   "metadata": {},
   "outputs": [
    {
     "name": "stdout",
     "output_type": "stream",
     "text": [
      "GOOD\n"
     ]
    }
   ],
   "source": [
    "x, y = 10, 20\n",
    "if x > 5 and y < 30:\n",
    "    print(\"GOOD\")\n",
    "    "
   ]
  },
  {
   "cell_type": "code",
   "execution_count": 5,
   "metadata": {},
   "outputs": [
    {
     "name": "stdout",
     "output_type": "stream",
     "text": [
      "2\n",
      "4\n",
      "6\n",
      "8\n",
      "10\n",
      "current value : 1\n",
      "current value : 2\n",
      "current value : 3\n",
      "current value : 4\n",
      "current value : 5\n"
     ]
    }
   ],
   "source": [
    "# for\n",
    "num = [1,2,3,4,5]\n",
    "for num in num:\n",
    "    print(num*2)\n",
    "    \n",
    "#range\n",
    "for i in range(1,6):\n",
    "    print(f\"current value : {i}\")    "
   ]
  },
  {
   "cell_type": "code",
   "execution_count": 7,
   "metadata": {},
   "outputs": [
    {
     "name": "stdout",
     "output_type": "stream",
     "text": [
      "i 1, j 1\n",
      "i 1, j 2\n",
      "i 2, j 1\n",
      "i 2, j 2\n",
      "i 3, j 1\n",
      "i 3, j 2\n",
      "index 0 : A\n",
      "index 1 : B\n",
      "index 2 : C\n"
     ]
    }
   ],
   "source": [
    "for i in range(1,4):\n",
    "    for j in range(1,3):\n",
    "        print(f\"i {i}, j {j}\")\n",
    "  \n",
    "# enumerate : sequence(list, tuple, string 등) 을 돌면서 인텍스와 값을 튜플형태로 반환       \n",
    "items = [\"A\", \"B\", \"C\"]\n",
    "for idx, item in enumerate(items):  \n",
    "    print(f\"index {idx} : {item}\")"
   ]
  },
  {
   "cell_type": "code",
   "execution_count": 4,
   "metadata": {},
   "outputs": [
    {
     "name": "stdout",
     "output_type": "stream",
     "text": [
      "close\n"
     ]
    }
   ],
   "source": [
    "u_input = input(\"입력하세요 : \")\n",
    "print(u_input)"
   ]
  },
  {
   "cell_type": "code",
   "execution_count": 6,
   "metadata": {},
   "outputs": [
    {
     "name": "stdout",
     "output_type": "stream",
     "text": [
      "exit\n"
     ]
    }
   ],
   "source": [
    "while True:\n",
    "    user_input = input(\"Press (y/n) to exit : \")\n",
    "    if user_input == \"y\":\n",
    "        print(\"exit\")\n",
    "        break"
   ]
  },
  {
   "cell_type": "code",
   "execution_count": 7,
   "metadata": {},
   "outputs": [
    {
     "name": "stdout",
     "output_type": "stream",
     "text": [
      "5\n",
      "4\n",
      "3\n",
      "2\n",
      "1\n",
      "Stop\n",
      "1\n",
      "3\n",
      "5\n",
      "7\n"
     ]
    }
   ],
   "source": [
    "x = 5\n",
    "while x > 0:\n",
    "    print(x)\n",
    "    x -= 1\n",
    "else: \n",
    "    print(\"Stop\")\n",
    "    \n",
    " \n",
    "n = 0\n",
    "while n < 10:\n",
    "    n += 1\n",
    "    if n%2 == 0:\n",
    "        continue\n",
    "    print(n)\n",
    "    if n == 7:\n",
    "        break"
   ]
  },
  {
   "cell_type": "code",
   "execution_count": null,
   "metadata": {},
   "outputs": [],
   "source": []
  }
 ],
 "metadata": {
  "kernelspec": {
   "display_name": ".venv",
   "language": "python",
   "name": "python3"
  },
  "language_info": {
   "codemirror_mode": {
    "name": "ipython",
    "version": 3
   },
   "file_extension": ".py",
   "mimetype": "text/x-python",
   "name": "python",
   "nbconvert_exporter": "python",
   "pygments_lexer": "ipython3",
   "version": "3.12.8"
  }
 },
 "nbformat": 4,
 "nbformat_minor": 2
}
