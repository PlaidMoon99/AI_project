{
 "cells": [
  {
   "cell_type": "markdown",
   "metadata": {},
   "source": [
    "#### 네이버 기사 불러오기"
   ]
  },
  {
   "cell_type": "code",
   "execution_count": 1,
   "metadata": {},
   "outputs": [],
   "source": [
    "# 사전 설치 라이브러리 : pip install selenium webdriver-manager bs4 openpyxl\n",
    "# bs4 : 정적인 내용 (beautiful scoop)\n",
    "# selenium : 로그인해서 봤을때 동적인것도 크롤링\n",
    "# webdriver-manager : google drive 들어가기\n",
    "# openpyxl : excel로 저장\n",
    "from selenium import webdriver\n",
    "from selenium.webdriver.chrome.service import Service\n",
    "from selenium.webdriver.common.by import By\n",
    "from selenium.webdriver.support.ui import WebDriverWait\n",
    "from selenium.webdriver.support import expected_conditions as EC\n",
    "from webdriver_manager.chrome import ChromeDriverManager\n",
    "from bs4 import BeautifulSoup\n",
    "import time\n",
    "import pandas as pd"
   ]
  },
  {
   "cell_type": "code",
   "execution_count": 9,
   "metadata": {},
   "outputs": [],
   "source": [
    "# Driver setting\n",
    "service = Service(ChromeDriverManager().install())\n",
    "driver = webdriver.Chrome(service = service)"
   ]
  },
  {
   "cell_type": "code",
   "execution_count": 10,
   "metadata": {},
   "outputs": [],
   "source": [
    "# keyword setting\n",
    "keyword = \"파이썬\"\n",
    "search_url = f\"https://search.naver.com/search.naver?where=news&query={keyword}\""
   ]
  },
  {
   "cell_type": "code",
   "execution_count": 11,
   "metadata": {},
   "outputs": [],
   "source": [
    "# 검색 page 접속\n",
    "driver.get(search_url)\n",
    "time.sleep(2) # 2초 텀을 두고 가져옴"
   ]
  },
  {
   "cell_type": "code",
   "execution_count": 12,
   "metadata": {},
   "outputs": [],
   "source": [
    "# news link 수집\n",
    "news_links = []\n",
    "links = driver.find_elements(By.CSS_SELECTOR, \"a.info\")"
   ]
  },
  {
   "cell_type": "code",
   "execution_count": 13,
   "metadata": {},
   "outputs": [
    {
     "name": "stdout",
     "output_type": "stream",
     "text": [
      "수집된 뉴스 링크 수 : 3\n"
     ]
    }
   ],
   "source": [
    "# 네이버 뉴스 링크만 수집 (3개)\n",
    "for link in links:\n",
    "    if len(news_links) >= 3: \n",
    "        break\n",
    "    href = link.get_attribute('href')\n",
    "    if href and 'news.naver.com' in href:\n",
    "        news_links.append(href)\n",
    "        \n",
    "print(f\"수집된 뉴스 링크 수 : {len(news_links)}\")"
   ]
  },
  {
   "cell_type": "code",
   "execution_count": 14,
   "metadata": {},
   "outputs": [
    {
     "name": "stdout",
     "output_type": "stream",
     "text": [
      "제목: ‘파이썬과 챗GPT의 만남’ 코딩밸리, ‘ChatGPT로 파이썬 제대로 활용하기’ 강의 업데이트\n",
      "--------------------------------------------------\n",
      "제목: 과기정보연, 대전교육청 협력 학습데이터 분석 교육 프로그램 운영\n",
      "--------------------------------------------------\n",
      "제목: [단독]구광모 힘주는 AI…LG전자, 공공기관에 'AI 노하우' 공유\n",
      "--------------------------------------------------\n"
     ]
    }
   ],
   "source": [
    "# 뉴스 데이터를 저장할 리스트\n",
    "news_data = []\n",
    "\n",
    "# 각 뉴스 기사 내용 수집\n",
    "for url in news_links:\n",
    "    driver.get(url)\n",
    "    time.sleep(2)\n",
    "\n",
    "    # HTML 파싱\n",
    "    soup = BeautifulSoup(driver.page_source, 'html.parser')\n",
    "\n",
    "    try:\n",
    "        # 제목 추출\n",
    "        title = soup.select_one('#title_area span').text.strip()\n",
    "\n",
    "        # 본문 추출\n",
    "        content = soup.select_one('#dic_area').text.strip()\n",
    "\n",
    "        # 데이터 저장\n",
    "        news_data.append({\n",
    "            'title': title,\n",
    "            'content': content,\n",
    "            'url': url\n",
    "        })\n",
    "\n",
    "        print(f\"제목: {title}\")\n",
    "        print(\"-\" * 50)\n",
    "\n",
    "    except Exception as e:\n",
    "        print(f\"Error with {url}: {e}\")\n",
    "\n",
    "# 드라이버 종료\n",
    "driver.quit()"
   ]
  },
  {
   "cell_type": "code",
   "execution_count": 15,
   "metadata": {},
   "outputs": [],
   "source": [
    "# create dataFrame\n",
    "df = pd.DataFrame(news_data)"
   ]
  },
  {
   "cell_type": "code",
   "execution_count": 16,
   "metadata": {},
   "outputs": [
    {
     "name": "stdout",
     "output_type": "stream",
     "text": [
      "\n",
      "===== 수집된 뉴스 목록 =====\n",
      "\n",
      "[기사 1]\n",
      "제목: ‘파이썬과 챗GPT의 만남’ 코딩밸리, ‘ChatGPT로 파이썬 제대로 활용하기’ 강의 업데이트\n",
      "URL: https://n.news.naver.com/mnews/article/081/0003509796?sid=101\n",
      "--------------------------------------------------\n",
      "\n",
      "[기사 2]\n",
      "제목: 과기정보연, 대전교육청 협력 학습데이터 분석 교육 프로그램 운영\n",
      "URL: https://n.news.naver.com/mnews/article/421/0008012476?sid=102\n",
      "--------------------------------------------------\n",
      "\n",
      "[기사 3]\n",
      "제목: [단독]구광모 힘주는 AI…LG전자, 공공기관에 'AI 노하우' 공유\n",
      "URL: https://n.news.naver.com/mnews/article/018/0005913701?sid=101\n",
      "--------------------------------------------------\n",
      "\n",
      "결과가 파이썬_news.xlsx 파일로 저장되었습니다.\n"
     ]
    }
   ],
   "source": [
    "# 결과 확인\n",
    "print(\"\\n===== 수집된 뉴스 목록 =====\")\n",
    "for idx, row in df.iterrows():\n",
    "    print(f\"\\n[기사 {idx+1}]\")\n",
    "    print(f\"제목: {row['title']}\")\n",
    "    print(f\"URL: {row['url']}\")\n",
    "    print(\"-\" * 50)\n",
    "    \n",
    "# Excel 파일로 저장\n",
    "df.to_excel(f'{keyword}_news.xlsx', index=False)\n",
    "print(f\"\\n결과가 {keyword}_news.xlsx 파일로 저장되었습니다.\")"
   ]
  },
  {
   "cell_type": "code",
   "execution_count": null,
   "metadata": {},
   "outputs": [],
   "source": []
  }
 ],
 "metadata": {
  "kernelspec": {
   "display_name": ".venv",
   "language": "python",
   "name": "python3"
  },
  "language_info": {
   "codemirror_mode": {
    "name": "ipython",
    "version": 3
   },
   "file_extension": ".py",
   "mimetype": "text/x-python",
   "name": "python",
   "nbconvert_exporter": "python",
   "pygments_lexer": "ipython3",
   "version": "3.10.6"
  }
 },
 "nbformat": 4,
 "nbformat_minor": 2
}
